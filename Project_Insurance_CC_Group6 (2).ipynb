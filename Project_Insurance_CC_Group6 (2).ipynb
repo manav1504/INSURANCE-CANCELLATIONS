{
  "cells": [
    {
      "cell_type": "markdown",
      "metadata": {
        "id": "0_lEuDL4JSNB"
      },
      "source": [
        "# Project: Insurance Policy Cancellation (CC)\n",
        "---------------------------------------------"
      ]
    },
    {
      "cell_type": "markdown",
      "metadata": {
        "id": "NSQWgmi5P5ad"
      },
      "source": [
        "**Dr. Dave Wanik - OPIM 5502: Big Data Analytics using Cloud Computing - University of Connecticut**\n",
        "\n",
        "*This dataset comes from the 2022 NESS Statathon (Theme 1) from 2022. An archived version of the website and related data has been posted on HuskyCT.*"
      ]
    },
    {
      "cell_type": "markdown",
      "metadata": {
        "id": "gwjL6cYoI4Va"
      },
      "source": [
        "**Challenge:** Using historical policy data, create a multiclass predictive model to predict the policies that are most likely to be canceled and those most likely to be renewed, as well as understand what variables are most influential in causing a policy cancellation.\n",
        "\n",
        "For this theme, there are true answers, and a team should focus on proposing the best predictive model. The performance of a team will be mainly based on the predictive performance of the propose method measured by accuracy and the quality of the code. You can use Python's weighted F1 score to calculate the performance of for your model on the test partition.\n",
        "  * Make sure you use the 'weighted' F1 score\n",
        "    * https://scikit-learn.org/stable/modules/generated/sklearn.metrics.f1_score.html"
      ]
    },
    {
      "cell_type": "markdown",
      "metadata": {
        "id": "ACRLrWJPPhDD"
      },
      "source": [
        "# Dataset Description\n",
        "The Kangaroo data set is based on 4 years of property insurance policies from 2013 to 2017. There are roughly 1 million policies in the training data and each policy only has one observation. There were almost 230,000 policies canceled during the effective term. Your work is to build a model on the training data and use your best model to predict the cancelation indicator for each policy in test data.\n",
        "\n",
        "Variable descriptions\n",
        "* id - Policy id (cannot be used in model)\n",
        "* tenure - Number of years with Kangaroo\n",
        "* claim.ind - Occurrence of claim (0=no, 1=yes)\n",
        "* n.adults - Number of adults in the property\n",
        "* n.children - Number of children in the property\n",
        "* ni.gender - Gender of policyholder\n",
        "* ni.marital.status - Marital status of policyholder (0=no, 1=yes)\n",
        "* premium - Price of the policy\n",
        "* sales.channel - Medium through which policy was purchased\n",
        "* coverage.type - Type of coverage\n",
        "* dwelling.type - Type of dwelling\n",
        "* len.at.res - Length at residence (how long policyholder lived at property)\n",
        "* credit - Financial credit level of policyholder\n",
        "* house.color - Color of house\n",
        "* ni.age - Age of policholder\n",
        "* year - Year of the policy\n",
        "* zip.code - Zip code of the property\n",
        "* cancel - cancelation indicator (0=not cancel, 1=may cancel but can be convinced, 2=cancel). **This is the response variable.** Dave is deleting the rows where `cancel==-1`!"
      ]
    },
    {
      "cell_type": "markdown",
      "metadata": {
        "id": "Ka8lEsJMKh_5"
      },
      "source": [
        "The train and test files have also been made available to students for modeling on HuskyCT."
      ]
    },
    {
      "cell_type": "code",
      "source": [
        "# train\n",
        "!gdown 1OwtVLopkeGxWMEYkzhFM1-C5hyNnnY39"
      ],
      "metadata": {
        "colab": {
          "base_uri": "https://localhost:8080/"
        },
        "outputId": "07646dc9-d7b0-490d-e29b-0f2680be4789",
        "id": "RblNCV7UTYNd"
      },
      "execution_count": null,
      "outputs": [
        {
          "output_type": "stream",
          "name": "stdout",
          "text": [
            "Downloading...\n",
            "From: https://drive.google.com/uc?id=1OwtVLopkeGxWMEYkzhFM1-C5hyNnnY39\n",
            "To: /content/train_df_simple.csv\n",
            "\r  0% 0.00/11.2M [00:00<?, ?B/s]\r 84% 9.44M/11.2M [00:00<00:00, 92.9MB/s]\r100% 11.2M/11.2M [00:00<00:00, 92.9MB/s]\n"
          ]
        }
      ]
    },
    {
      "cell_type": "code",
      "source": [
        "# test\n",
        "!gdown 1DE_CgigN94XO7ESp1ip0t4Mc2on0r_Rj"
      ],
      "metadata": {
        "colab": {
          "base_uri": "https://localhost:8080/"
        },
        "id": "NCjawTkYMFlA",
        "outputId": "f5bc6e82-adc0-4843-e7b6-6b26d7fa54d8"
      },
      "execution_count": null,
      "outputs": [
        {
          "output_type": "stream",
          "name": "stdout",
          "text": [
            "Downloading...\n",
            "From: https://drive.google.com/uc?id=1DE_CgigN94XO7ESp1ip0t4Mc2on0r_Rj\n",
            "To: /content/test_df.csv\n",
            "100% 32.2M/32.2M [00:00<00:00, 70.3MB/s]\n"
          ]
        }
      ]
    },
    {
      "cell_type": "markdown",
      "metadata": {
        "id": "l0Riiafgg0Ot"
      },
      "source": [
        "# Install Spark\n",
        "Simpler is better!"
      ]
    },
    {
      "cell_type": "code",
      "execution_count": null,
      "metadata": {
        "colab": {
          "base_uri": "https://localhost:8080/"
        },
        "id": "xy1GhMXp3LTT",
        "outputId": "caee4afd-8a0c-439d-e303-33244fab27f8"
      },
      "outputs": [
        {
          "output_type": "stream",
          "name": "stdout",
          "text": [
            "Looking in indexes: https://pypi.org/simple, https://us-python.pkg.dev/colab-wheels/public/simple/\n",
            "Collecting pyspark\n",
            "  Downloading pyspark-3.4.0.tar.gz (310.8 MB)\n",
            "\u001b[2K     \u001b[90m━━━━━━━━━━━━━━━━━━━━━━━━━━━━━━━━━━━━━━━\u001b[0m \u001b[32m310.8/310.8 MB\u001b[0m \u001b[31m2.6 MB/s\u001b[0m eta \u001b[36m0:00:00\u001b[0m\n",
            "\u001b[?25h  Preparing metadata (setup.py) ... \u001b[?25l\u001b[?25hdone\n",
            "Requirement already satisfied: py4j==0.10.9.7 in /usr/local/lib/python3.10/dist-packages (from pyspark) (0.10.9.7)\n",
            "Building wheels for collected packages: pyspark\n",
            "  Building wheel for pyspark (setup.py) ... \u001b[?25l\u001b[?25hdone\n",
            "  Created wheel for pyspark: filename=pyspark-3.4.0-py2.py3-none-any.whl size=311317145 sha256=f9660223c28dfb8e72712baecc6a7101601d5b41cb8eb749e0f39668ce800b9b\n",
            "  Stored in directory: /root/.cache/pip/wheels/7b/1b/4b/3363a1d04368e7ff0d408e57ff57966fcdf00583774e761327\n",
            "Successfully built pyspark\n",
            "Installing collected packages: pyspark\n",
            "Successfully installed pyspark-3.4.0\n"
          ]
        }
      ],
      "source": [
        "!pip install pyspark"
      ]
    },
    {
      "cell_type": "markdown",
      "metadata": {
        "id": "CRxEW8DkGXCF"
      },
      "source": [
        "# Start session"
      ]
    },
    {
      "cell_type": "markdown",
      "metadata": {
        "id": "JuJ0P_fPhMro"
      },
      "source": [
        "We start the builder pattern `SparkSession.builder` and then chain a configuration parameter that defined the application name."
      ]
    },
    {
      "cell_type": "markdown",
      "metadata": {
        "id": "J2w5YYf2hsUx"
      },
      "source": [
        "Providing a useful `appName` helps you identify which programs are running on your Spark cluster."
      ]
    },
    {
      "cell_type": "code",
      "execution_count": null,
      "metadata": {
        "id": "O3AIwdPaGWTy"
      },
      "outputs": [],
      "source": [
        "from pyspark.sql import SparkSession\n",
        "spark = SparkSession.builder\\\n",
        "        .appName(\"ML_pipelines\")\\\n",
        "        .getOrCreate()"
      ]
    },
    {
      "cell_type": "markdown",
      "metadata": {
        "id": "N1GgjF28xzGT"
      },
      "source": [
        "# Some dependencies"
      ]
    },
    {
      "cell_type": "code",
      "execution_count": null,
      "metadata": {
        "id": "vs81A2LraFug"
      },
      "outputs": [],
      "source": [
        "# our usual pyspark friends\n",
        "from pyspark.sql.utils import AnalysisException\n",
        "import pyspark.sql.functions as F\n",
        "import pyspark.sql.types as T\n",
        "from functools import reduce"
      ]
    },
    {
      "cell_type": "code",
      "execution_count": null,
      "metadata": {
        "id": "Zkhhy1ZNiuIl"
      },
      "outputs": [],
      "source": [
        "# pandas and sklearn\n",
        "import pandas as pd\n",
        "import sklearn"
      ]
    },
    {
      "cell_type": "markdown",
      "metadata": {
        "id": "cILTYnnPIZsk"
      },
      "source": [
        "# Rubric\n",
        "The submitted notebook will serve as both a form of model documentation and business communication - there should be lots of text cells and comments and a nice presentation of your work!\n",
        "\n",
        "🟥 You may use your own local environment, Colab or Databricks to do your modeling, but you must submit your final .ipynb file for grading!\n",
        "\n",
        "🟥 I expect most of this notebook to be completed with PySpark code with limited `toPandas()` statements - the one exception to this is your model evaluation section where you can convert to pandas so that you can use `sklearn` classification report and confusion matrix if you would like to.\n",
        "\n",
        "## EDA, data cleaning and feature engineering (20 points)\n",
        "* `X_train`, `X_test`, `y_train`, and `y_test` has been provided to all students.\n",
        "  * Any team who does not do this automatically goes into last place - more below!\n",
        "* Explore the data and clean it up as you see fit - make sure you `fit_transform()` on the training data and `transform()` on the test data.\n",
        "  * Any team that has data leakage automatically goes into last place!\n",
        "* Make five meaningful plots and five meaningful tables (most be deeper than simpler univariate plots - we want you to really explore the problem at hand and use this information to make a better model!)\n",
        "* It is up to you whether or not you want to curate the training dataset to get a better fit on the test dataset (for example, if you would like to use some sampling strategy like oversampling, that's great - just remember that you DON'T change the distribution of the target variable in the test partition.)\n",
        "\n",
        "## Modeling (20 points)\n",
        "* You may perform your modeling in a different notebook (to be submitted as an appendix), but you must run your final and BEST model here and all output must be displayed.\n",
        "  * It's up to you to decide what the best pre-processing steps should be!\n",
        "\n",
        "## Model Results (20 points)\n",
        "* Classification report and confusion report for train and test partition.\n",
        "  * You may use cross-validation to help pick the optimal hyperparameters for your model.\n",
        "* Even though this was for text analytics, I thought it was still very well-done, it could be a good resource for you:\n",
        "  * https://ashokpalivela.medium.com/multi-class-text-classification-using-spark-ml-in-python-b8d2a6545cb\n",
        "\n",
        "## Interpretability and Discussion (30 points)\n",
        "Remember - we want to know what is driving cancellations! It's not enough to build an amazing model, you have to inspect it and explain how it made its decision.\n",
        "\n",
        "* If your best model is a logistic regression, print the coefficients and interpret them!\n",
        "  * Check the textbook and class materials for a nice example.\n",
        "* If your best model is a tree-based model, you can get the importances from the PySpark models!\n",
        "  * https://spark.apache.org/docs/latest/api/python/reference/api/pyspark.ml.classification.DecisionTreeClassifier.html\n",
        "  * https://spark.apache.org/docs/latest/api/python/reference/api/pyspark.ml.classification.RandomForestClassificationModel.html#pyspark.ml.classification.RandomForestClassificationModel.featureImportances\n",
        "* If you used a different model than a logistic regression or tree-based model, it's up to you to determine to best show how your model made its decision. On your own, you may want to consider partial dependence (ask Dave for help early if you want to do this):\n",
        "  * https://gist.github.com/eddjberry/43ceca3d29905781ab6c8dab07e8e1da\n",
        "*  Use your model results and interpretability items to present what variables are most influential in causing a policy cancellation.\n",
        "  * We are looking for each team to provide a business recommendation based on the results of your model! We will take off substantial points if there is not a well-written and cohesive presentation of results.\n",
        "\n",
        "## Conclusions (10 points)\n",
        "* Write five meaningful bullets (each bullet should be at least two sentences long) describing what you learned.\n",
        "\n",
        "## 🛷 Sliding grading scale\n",
        "* You are in direct competition with every other group in the class!\n",
        "* I expect everything in this notebook to be of sufficient quality - well-organized with lots of comments and cleaned up nice for presentation to management. I will deduct substantial points if this is just my code copy/pasted without any deep analysis.\n",
        "* Your 'starting grades' will range from an 80 to a 100 based on model F1 score for the TEST PARTITION (you can use the `F1 score` function from sci-kit learn to evaluate the final model.)\n",
        "* Of course, if something is missing from the above rubric, we will deduct points from your starting grade.\n",
        "  * If you came in first place and lost 10 points somewhere, your final grade is 100 - 10 = 90\n",
        "  * If you came in last place (for accuracy) and lost 10 points somewhere, your final grade is 80 - 10 = 70.\n"
      ]
    },
    {
      "cell_type": "markdown",
      "metadata": {
        "id": "YeOPkOMtAFXz"
      },
      "source": [
        "# EDA, data cleaning and feature engineering"
      ]
    },
    {
      "cell_type": "code",
      "execution_count": null,
      "metadata": {
        "id": "fm0IWiLrAVGZ"
      },
      "outputs": [],
      "source": [
        "train = spark.read.csv(\n",
        "    '/content/train_df_simple.csv', inferSchema=True, header=True\n",
        ")\n",
        "test = spark.read.csv(\n",
        "    '/content/test_df.csv', inferSchema=True, header=True\n",
        ")\n",
        "\n",
        "X_train = train.drop(\"cancel\")\n",
        "y_train = train.select(\"cancel\")\n",
        "\n",
        "X_test = test.drop(\"cancel\")\n",
        "y_test = test.select(\"cancel\")"
      ]
    },
    {
      "cell_type": "code",
      "execution_count": null,
      "metadata": {
        "colab": {
          "base_uri": "https://localhost:8080/"
        },
        "id": "FsI5AEinKT_Y",
        "outputId": "bc5dbad7-93ba-4fbc-8fa2-4b312fe9f08b"
      },
      "outputs": [
        {
          "output_type": "stream",
          "name": "stdout",
          "text": [
            "root\n",
            " |-- id: integer (nullable = true)\n",
            " |-- year: integer (nullable = true)\n",
            " |-- zip.code: double (nullable = true)\n",
            " |-- house.color: string (nullable = true)\n",
            " |-- ni.age: double (nullable = true)\n",
            " |-- len.at.res: double (nullable = true)\n",
            " |-- credit: string (nullable = true)\n",
            " |-- coverage.type: string (nullable = true)\n",
            " |-- dwelling.type: string (nullable = true)\n",
            " |-- premium: double (nullable = true)\n",
            " |-- sales.channel: string (nullable = true)\n",
            " |-- ni.gender: string (nullable = true)\n",
            " |-- ni.marital.status: double (nullable = true)\n",
            " |-- n.adults: double (nullable = true)\n",
            " |-- n.children: double (nullable = true)\n",
            " |-- tenure: double (nullable = true)\n",
            " |-- claim.ind: double (nullable = true)\n",
            "\n"
          ]
        }
      ],
      "source": [
        "# schema\n",
        "X_train.printSchema()"
      ]
    },
    {
      "cell_type": "code",
      "execution_count": null,
      "metadata": {
        "colab": {
          "base_uri": "https://localhost:8080/"
        },
        "id": "dA4C6PL2KZmc",
        "outputId": "cf7dcda5-4da6-4b7b-b279-29124801e637"
      },
      "outputs": [
        {
          "output_type": "stream",
          "name": "stdout",
          "text": [
            "Number of rows: 120000\n",
            "Number of columns: 17\n"
          ]
        }
      ],
      "source": [
        "# shape of train:\n",
        "print(\"Number of rows:\",X_train.count())\n",
        "print(\"Number of columns:\",len(X_train.columns))"
      ]
    },
    {
      "cell_type": "code",
      "execution_count": null,
      "metadata": {
        "colab": {
          "base_uri": "https://localhost:8080/"
        },
        "id": "SpHJ1UsQMPsT",
        "outputId": "18830ff5-304d-4ad3-f161-8dddff439d70"
      },
      "outputs": [
        {
          "output_type": "stream",
          "name": "stdout",
          "text": [
            "+------+----+--------+-----------+------+----------+------+-------------+-------------+-----------------+-------------+---------+-----------------+--------+----------+------+---------+\n",
            "|id    |year|zip.code|house.color|ni.age|len.at.res|credit|coverage.type|dwelling.type|premium          |sales.channel|ni.gender|ni.marital.status|n.adults|n.children|tenure|claim.ind|\n",
            "+------+----+--------+-----------+------+----------+------+-------------+-------------+-----------------+-------------+---------+-----------------+--------+----------+------+---------+\n",
            "|688609|2016|50001.0 |white      |44.0  |25.0      |high  |A            |Condo        |950.7386189      |Broker       |F        |1.0              |3.0     |0.0       |17.0  |0.0      |\n",
            "|308155|2015|50048.0 |yellow     |31.0  |22.0      |high  |B            |Tenant       |1003.420558      |Broker       |M        |0.0              |2.0     |0.0       |8.0   |1.0      |\n",
            "|240486|2015|98034.0 |white      |39.0  |17.0      |low   |C            |House        |822.5538692000001|Phone        |M        |1.0              |3.0     |0.0       |8.0   |0.0      |\n",
            "|629942|2013|98022.0 |white      |37.0  |22.0      |high  |B            |House        |827.0485096      |Phone        |F        |1.0              |1.0     |2.0       |16.0  |0.0      |\n",
            "|532682|2013|80011.0 |red        |39.0  |13.0      |medium|C            |Condo        |706.7646465      |Broker       |F        |1.0              |1.0     |0.0       |14.0  |0.0      |\n",
            "+------+----+--------+-----------+------+----------+------+-------------+-------------+-----------------+-------------+---------+-----------------+--------+----------+------+---------+\n",
            "only showing top 5 rows\n",
            "\n"
          ]
        }
      ],
      "source": [
        "# show data\n",
        "X_train.show(5, False)"
      ]
    },
    {
      "cell_type": "markdown",
      "metadata": {
        "id": "Ckxxp0ytNHw4"
      },
      "source": [
        "We decided to tweak the column names that have '.' in it. This can be problematic when calling the columns."
      ]
    },
    {
      "cell_type": "code",
      "execution_count": null,
      "metadata": {
        "id": "T0GdVm4INGOP"
      },
      "outputs": [],
      "source": [
        "# change '.' to '_' in column names:\n",
        "X_train = X_train.toDF(*[name.replace(\".\", \"_\") for name in X_train.columns])\n",
        "X_test = X_test.toDF(*[name.replace(\".\", \"_\") for name in X_test.columns])"
      ]
    },
    {
      "cell_type": "code",
      "execution_count": null,
      "metadata": {
        "colab": {
          "base_uri": "https://localhost:8080/"
        },
        "id": "NEuo561JNuuY",
        "outputId": "960a21fb-2def-4e77-8bb6-a43d89284b09"
      },
      "outputs": [
        {
          "output_type": "stream",
          "name": "stdout",
          "text": [
            "+------+----+--------+-----------+------+----------+------+-------------+-------------+-----------+-------------+---------+-----------------+--------+----------+------+---------+\n",
            "|    id|year|zip_code|house_color|ni_age|len_at_res|credit|coverage_type|dwelling_type|    premium|sales_channel|ni_gender|ni_marital_status|n_adults|n_children|tenure|claim_ind|\n",
            "+------+----+--------+-----------+------+----------+------+-------------+-------------+-----------+-------------+---------+-----------------+--------+----------+------+---------+\n",
            "|688609|2016| 50001.0|      white|  44.0|      25.0|  high|            A|        Condo|950.7386189|       Broker|        F|              1.0|     3.0|       0.0|  17.0|      0.0|\n",
            "+------+----+--------+-----------+------+----------+------+-------------+-------------+-----------+-------------+---------+-----------------+--------+----------+------+---------+\n",
            "only showing top 1 row\n",
            "\n"
          ]
        }
      ],
      "source": [
        "X_train.show(1)"
      ]
    },
    {
      "cell_type": "markdown",
      "metadata": {
        "id": "WiFEJ0IXDyK4"
      },
      "source": [
        "## Data Cleaning"
      ]
    },
    {
      "cell_type": "code",
      "execution_count": null,
      "metadata": {
        "id": "he_o9Nqznrpo"
      },
      "outputs": [],
      "source": [
        "X_train = X_train.withColumn('id', F.monotonically_increasing_id())\n",
        "X_test = X_test.withColumn('id', F.monotonically_increasing_id())"
      ]
    },
    {
      "cell_type": "code",
      "execution_count": null,
      "metadata": {
        "id": "xZMFW1iyte7k"
      },
      "outputs": [],
      "source": [
        "y_train = y_train.withColumn('id_y', F.monotonically_increasing_id())\n",
        "y_test = y_test.withColumn('id_y', F.monotonically_increasing_id())"
      ]
    },
    {
      "cell_type": "code",
      "execution_count": null,
      "metadata": {
        "id": "MqSTYZKhtoi1"
      },
      "outputs": [],
      "source": [
        "X_train = X_train.join(y_train, y_train.id_y == X_train.id, how = 'inner')\n",
        "X_test = X_test.join(y_test, y_test.id_y == X_test.id, how = 'inner')"
      ]
    },
    {
      "cell_type": "markdown",
      "metadata": {
        "id": "_rOUJpUSBEND"
      },
      "source": [
        "I had to perform what was done above in order to be able to drop rows with null values while at the same time dropping these rows in y_train and y_test, as well (or else we can't train the model). This also required changing the ids for the X dataset but it should not matter, as long as we don't join X_train with y_test for some reason."
      ]
    },
    {
      "cell_type": "markdown",
      "metadata": {
        "id": "cDoPEUsIEVur"
      },
      "source": [
        "let us explore and change categorical features first:\n",
        "* `year`- ordinally encode\n",
        "* `zipcode`- should be dropped if too many values\n",
        "* `house_color`- one-hot or drop\n",
        "* `ni_age`- bucketize or convert to ind > mean\n",
        "* `credit`- ordinally encode\n",
        "* `coverage_type`- one-hot\n",
        "* `dwelling_type`- one-hot\n",
        "* `sales_channel`- one-hot\n",
        "* `ni_gender`- encode (0/1)\n",
        "* `ni_marital_status`\n",
        "* `claim_ind`"
      ]
    },
    {
      "cell_type": "markdown",
      "metadata": {
        "id": "1nhTjfZzIIFV"
      },
      "source": [
        "### `year`"
      ]
    },
    {
      "cell_type": "code",
      "execution_count": null,
      "metadata": {
        "colab": {
          "base_uri": "https://localhost:8080/"
        },
        "id": "DSwndrgcEDut",
        "outputId": "c73f462a-fbbc-4cbe-918c-a87e14745cf3"
      },
      "outputs": [
        {
          "output_type": "stream",
          "name": "stdout",
          "text": [
            "+----+-----+\n",
            "|year|count|\n",
            "+----+-----+\n",
            "|2013|25254|\n",
            "|2014|28546|\n",
            "|2015|31554|\n",
            "|2016|34646|\n",
            "+----+-----+\n",
            "\n"
          ]
        }
      ],
      "source": [
        "# count values in year column\n",
        "X_train.groupBy('year').count().orderBy('count').show()"
      ]
    },
    {
      "cell_type": "code",
      "execution_count": null,
      "metadata": {
        "colab": {
          "base_uri": "https://localhost:8080/"
        },
        "id": "RJbMoOYRJYrs",
        "outputId": "6c6e862f-a9af-474c-a0c4-34776ff6c228"
      },
      "outputs": [
        {
          "output_type": "stream",
          "name": "stdout",
          "text": [
            "+----+------------+\n",
            "|year|year_encoded|\n",
            "+----+------------+\n",
            "|2016|         0.0|\n",
            "|2015|         1.0|\n",
            "|2015|         1.0|\n",
            "|2013|         3.0|\n",
            "|2013|         3.0|\n",
            "|2015|         1.0|\n",
            "|2015|         1.0|\n",
            "|2015|         1.0|\n",
            "|2015|         1.0|\n",
            "|2015|         1.0|\n",
            "|2014|         2.0|\n",
            "|2016|         0.0|\n",
            "|2016|         0.0|\n",
            "|2013|         3.0|\n",
            "|2014|         2.0|\n",
            "|2015|         1.0|\n",
            "|2014|         2.0|\n",
            "|2015|         1.0|\n",
            "|2016|         0.0|\n",
            "|2016|         0.0|\n",
            "+----+------------+\n",
            "only showing top 20 rows\n",
            "\n"
          ]
        }
      ],
      "source": [
        "# import string indexer\n",
        "from pyspark.ml.feature import StringIndexer\n",
        "\n",
        "# convert year to string first\n",
        "X_train = X_train.withColumn(\"year\", X_train.year.cast('string'))\n",
        "X_test = X_test.withColumn(\"year\", X_test.year.cast('string'))\n",
        "\n",
        "indexer = StringIndexer(inputCol = 'year', outputCol = 'year_encoded')\n",
        "X_train = indexer.fit(X_train).transform(X_train)\n",
        "X_test = indexer.fit(X_test).transform(X_test)\n",
        "X_train.select('year', 'year_encoded').show()"
      ]
    },
    {
      "cell_type": "markdown",
      "metadata": {
        "id": "B3PabPSXNGNU"
      },
      "source": [
        "### `zip_code`"
      ]
    },
    {
      "cell_type": "code",
      "execution_count": null,
      "metadata": {
        "colab": {
          "base_uri": "https://localhost:8080/"
        },
        "id": "2AKutcjWNI8m",
        "outputId": "2d31fde9-6eeb-4b4b-a5b3-cf7642b7a8be"
      },
      "outputs": [
        {
          "output_type": "stream",
          "name": "stdout",
          "text": [
            "+--------+-----+\n",
            "|zip_code|count|\n",
            "+--------+-----+\n",
            "| 20108.0|   51|\n",
            "| 20116.0|   56|\n",
            "| 20128.0|   63|\n",
            "| 20117.0|   65|\n",
            "| 20121.0|   66|\n",
            "| 20115.0|   66|\n",
            "| 20122.0|   67|\n",
            "| 20142.0|   70|\n",
            "| 20124.0|   71|\n",
            "| 20118.0|   72|\n",
            "| 20146.0|   77|\n",
            "| 20144.0|   77|\n",
            "| 20158.0|   77|\n",
            "| 20164.0|   77|\n",
            "| 20155.0|   78|\n",
            "| 20107.0|   78|\n",
            "| 20130.0|   80|\n",
            "| 20138.0|   81|\n",
            "| 20141.0|   82|\n",
            "| 20147.0|   82|\n",
            "+--------+-----+\n",
            "only showing top 20 rows\n",
            "\n"
          ]
        }
      ],
      "source": [
        "# let's see how many zipcodes there are\n",
        "# if there are too many, it should be dropped since it serves no purpose as a continuous feature\n",
        "# and will make the dataset too complex for the model as a categorical feature\n",
        "X_train.groupBy('zip_code').count().orderBy('count').show()"
      ]
    },
    {
      "cell_type": "code",
      "execution_count": null,
      "metadata": {
        "id": "27U9Ec_VNerX"
      },
      "outputs": [],
      "source": [
        "# far too many, we will drop it from x\n",
        "X_train = X_train.drop('zip_code')\n",
        "X_test = X_test.drop('zip_code')"
      ]
    },
    {
      "cell_type": "markdown",
      "metadata": {
        "id": "qHVvlJoXNs1I"
      },
      "source": [
        "### `house_color`"
      ]
    },
    {
      "cell_type": "code",
      "execution_count": null,
      "metadata": {
        "colab": {
          "base_uri": "https://localhost:8080/"
        },
        "id": "voe_urUINyGy",
        "outputId": "9a3b37dc-2598-4985-93ab-91fefbd9521c"
      },
      "outputs": [
        {
          "output_type": "stream",
          "name": "stdout",
          "text": [
            "+-----------+-----+\n",
            "|house_color|count|\n",
            "+-----------+-----+\n",
            "|       null|  109|\n",
            "|     yellow|10901|\n",
            "|        red|30106|\n",
            "|       blue|33310|\n",
            "|      white|45574|\n",
            "+-----------+-----+\n",
            "\n"
          ]
        }
      ],
      "source": [
        "# how many house colors are there\n",
        "X_train.groupBy('house_color').count().orderBy('count').show()"
      ]
    },
    {
      "cell_type": "code",
      "execution_count": null,
      "metadata": {
        "id": "9MfXrnafOOHG"
      },
      "outputs": [],
      "source": [
        "# There are only four house colors, so it may be reasonable to one-hot encode these.\n",
        "# However, there are rows where the color is null. We should drop these rows so the encoder does not get confused.\n",
        "X_train = X_train.na.drop(subset = ['house_color'])\n",
        "X_test = X_test.na.drop(subset = ['house_color'])"
      ]
    },
    {
      "cell_type": "code",
      "execution_count": null,
      "metadata": {
        "id": "Qsm7ei0cO-yP"
      },
      "outputs": [],
      "source": [
        "# now we can one-hot encode:\n",
        "from pyspark.ml.feature import OneHotEncoder\n",
        "\n",
        "# must index categories first\n",
        "indexer = StringIndexer(inputCol = 'house_color', outputCol = 'house_color_ind')\n",
        "one = OneHotEncoder(inputCol = 'house_color_ind', outputCol = 'house_color_enc')\n",
        "\n",
        "X_train = indexer.fit(X_train).transform(X_train)\n",
        "X_test = indexer.fit(X_test).transform(X_test)\n",
        "X_train = one.fit(X_train).transform(X_train)\n",
        "X_test = one.fit(X_test).transform(X_test)"
      ]
    },
    {
      "cell_type": "code",
      "execution_count": null,
      "metadata": {
        "colab": {
          "base_uri": "https://localhost:8080/"
        },
        "id": "u96M7fGvRI4f",
        "outputId": "165263c4-f3e7-4997-8b57-9c91fcee48ad"
      },
      "outputs": [
        {
          "output_type": "stream",
          "name": "stdout",
          "text": [
            "+---+----+-----------+------+----------+------+-------------+-------------+-----------------+-------------+---------+-----------------+--------+----------+------+---------+------+----+------------+---------------+---------------+\n",
            "| id|year|house_color|ni_age|len_at_res|credit|coverage_type|dwelling_type|          premium|sales_channel|ni_gender|ni_marital_status|n_adults|n_children|tenure|claim_ind|cancel|id_y|year_encoded|house_color_ind|house_color_enc|\n",
            "+---+----+-----------+------+----------+------+-------------+-------------+-----------------+-------------+---------+-----------------+--------+----------+------+---------+------+----+------------+---------------+---------------+\n",
            "|  0|2016|      white|  44.0|      25.0|  high|            A|        Condo|      950.7386189|       Broker|        F|              1.0|     3.0|       0.0|  17.0|      0.0|     0|   0|         0.0|            0.0|  (3,[0],[1.0])|\n",
            "|  1|2015|     yellow|  31.0|      22.0|  high|            B|       Tenant|      1003.420558|       Broker|        M|              0.0|     2.0|       0.0|   8.0|      1.0|     0|   1|         1.0|            3.0|      (3,[],[])|\n",
            "|  2|2015|      white|  39.0|      17.0|   low|            C|        House|822.5538692000001|        Phone|        M|              1.0|     3.0|       0.0|   8.0|      0.0|     0|   2|         1.0|            0.0|  (3,[0],[1.0])|\n",
            "|  3|2013|      white|  37.0|      22.0|  high|            B|        House|      827.0485096|        Phone|        F|              1.0|     1.0|       2.0|  16.0|      0.0|     0|   3|         3.0|            0.0|  (3,[0],[1.0])|\n",
            "|  4|2013|        red|  39.0|      13.0|medium|            C|        Condo|      706.7646465|       Broker|        F|              1.0|     1.0|       0.0|  14.0|      0.0|     0|   4|         3.0|            2.0|  (3,[2],[1.0])|\n",
            "|  5|2015|      white|  26.0|      14.0|  high|            C|        House|      999.6689768|       Broker|        M|              1.0|     4.0|       1.0|   4.0|      0.0|     0|   5|         1.0|            0.0|  (3,[0],[1.0])|\n",
            "|  6|2015|       blue|  36.0|      17.0|  high|            A|       Tenant|      881.7901489|        Phone|        F|              1.0|     2.0|       1.0|   2.0|      1.0|     0|   6|         1.0|            1.0|  (3,[1],[1.0])|\n",
            "|  7|2015|      white|  37.0|      12.0|medium|            A|       Tenant|824.6881802999999|       Broker|        F|              0.0|     4.0|       0.0|   0.0|      0.0|     0|   7|         1.0|            0.0|  (3,[0],[1.0])|\n",
            "|  8|2015|        red|  47.0|      12.0|  high|            C|        House|      824.1878299|       Broker|        M|              1.0|     1.0|       3.0|  18.0|      1.0|     0|   8|         1.0|            2.0|  (3,[2],[1.0])|\n",
            "|  9|2015|      white|  29.0|       6.0|  high|            A|        Condo|      1041.867835|       Broker|        F|              1.0|     1.0|       0.0|   6.0|      0.0|     0|   9|         1.0|            0.0|  (3,[0],[1.0])|\n",
            "| 10|2014|        red|  61.0|       8.0|  high|            A|        House|824.6099092999999|       Broker|        M|              1.0|     1.0|       1.0|  23.0|      0.0|     0|  10|         2.0|            2.0|  (3,[2],[1.0])|\n",
            "| 11|2016|       blue|  42.0|      19.0|  high|            C|        House|      882.0434817|        Phone|        M|              0.0|     2.0|       1.0|  14.0|      0.0|     0|  11|         0.0|            1.0|  (3,[1],[1.0])|\n",
            "| 12|2016|        red|  33.0|      13.0|   low|            C|        Condo|      902.3094373|       Broker|        F|              0.0|     1.0|       0.0|   6.0|      1.0|     0|  12|         0.0|            2.0|  (3,[2],[1.0])|\n",
            "| 13|2013|       blue|  53.0|      13.0|medium|            B|        House|      767.0643712|       Broker|        M|              1.0|     3.0|       1.0|  15.0|      0.0|     0|  13|         3.0|            1.0|  (3,[1],[1.0])|\n",
            "| 14|2014|      white|  49.0|      12.0|   low|            A|       Tenant|      965.7790739|       Broker|        M|              1.0|     3.0|       1.0|  19.0|      0.0|     0|  14|         2.0|            0.0|  (3,[0],[1.0])|\n",
            "| 15|2015|       blue|  62.0|      14.0|  high|            A|        Condo|914.6389207999998|       Broker|        M|              0.0|     2.0|       0.0|  12.0|      0.0|     0|  15|         1.0|            1.0|  (3,[1],[1.0])|\n",
            "| 16|2014|       blue|  47.0|      21.0|   low|            A|        Condo|      790.2149754|       Broker|        M|              1.0|     1.0|       1.0|  14.0|      0.0|     0|  16|         2.0|            1.0|  (3,[1],[1.0])|\n",
            "| 17|2015|       blue|  27.0|      25.0|medium|            A|        House|      942.5149163|        Phone|        F|              0.0|     1.0|       0.0|   7.0|      0.0|     0|  17|         1.0|            1.0|  (3,[1],[1.0])|\n",
            "| 18|2016|       blue|  51.0|      14.0|medium|            B|        House|      726.7544091|       Broker|        M|              0.0|     2.0|       0.0|  22.0|      0.0|     0|  18|         0.0|            1.0|  (3,[1],[1.0])|\n",
            "| 19|2016|      white|  46.0|      10.0|  high|            A|       Tenant|       990.864223|        Phone|     null|              1.0|     3.0|       2.0|  15.0|      0.0|     0|  19|         0.0|            0.0|  (3,[0],[1.0])|\n",
            "+---+----+-----------+------+----------+------+-------------+-------------+-----------------+-------------+---------+-----------------+--------+----------+------+---------+------+----+------------+---------------+---------------+\n",
            "only showing top 20 rows\n",
            "\n"
          ]
        }
      ],
      "source": [
        "X_train.show()"
      ]
    },
    {
      "cell_type": "code",
      "execution_count": null,
      "metadata": {
        "id": "8abszZlybhwQ"
      },
      "outputs": [],
      "source": [
        "# ['house_color_white', 'house_color_blue', 'house_color_red']\n",
        "X_train = X_train.drop('house_color')\n",
        "X_train = X_train.drop('house_color_ind')\n",
        "X_test = X_test.drop('house_color')\n",
        "X_test = X_test.drop('house_color_ind')"
      ]
    },
    {
      "cell_type": "markdown",
      "metadata": {
        "id": "hM91TyfdRbK0"
      },
      "source": [
        "### `ni_age` @@"
      ]
    },
    {
      "cell_type": "code",
      "execution_count": null,
      "metadata": {
        "id": "LziBRq6aRjGu"
      },
      "outputs": [],
      "source": [
        "# Let us see how this feature is distributed in order to determine how we can format it\n",
        "#import seaborn as sns\n",
        "\n",
        "# drop nan values, there are 708 (too little to affect dataset)\n",
        "#X_train = X_train.na.drop(subset = ['ni_age'])\n",
        "#X_test = X_test.na.drop(subset = ['ni_age'])\n",
        "\n",
        "#ni_age_dist = X_train.select('ni_age').toPandas()"
      ]
    },
    {
      "cell_type": "code",
      "execution_count": null,
      "metadata": {
        "colab": {
          "base_uri": "https://localhost:8080/",
          "height": 448
        },
        "id": "hwI4foXKTmBZ",
        "outputId": "b0817447-3cfc-4e61-fc09-81d0532bcc82"
      },
      "outputs": [
        {
          "output_type": "execute_result",
          "data": {
            "text/plain": [
              "<Axes: ylabel='Count'>"
            ]
          },
          "metadata": {},
          "execution_count": 45
        },
        {
          "output_type": "display_data",
          "data": {
            "text/plain": [
              "<Figure size 640x480 with 1 Axes>"
            ],
            "image/png": "[encoded data removed]"
          },
          "metadata": {}
        }
      ],
      "source": [
        "import seaborn as sns\n",
        "sns.histplot(data = \"ni_age\")"
      ]
    },
    {
      "cell_type": "markdown",
      "metadata": {
        "id": "hhGykKgLVrzG"
      },
      "source": [
        "Clearly there is no reason for policy holders to be more than 100 years old. We should remove these values."
      ]
    },
    {
      "cell_type": "code",
      "execution_count": null,
      "metadata": {
        "id": "uu41ofiHTJAd"
      },
      "outputs": [],
      "source": [
        "# udf = F.UserDefinedFunction(lambda x: )\n",
        "\n",
        "X_train = X_train.where(F.col(\"ni_age\") <= 100)\n",
        "X_test = X_test.where(F.col(\"ni_age\") <= 100)"
      ]
    },
    {
      "cell_type": "code",
      "execution_count": null,
      "metadata": {
        "colab": {
          "base_uri": "https://localhost:8080/",
          "height": 448
        },
        "id": "WmmMitJjcwQ_",
        "outputId": "994fa9b6-cfa6-4a6d-8505-662eb8ef9948"
      },
      "outputs": [
        {
          "output_type": "execute_result",
          "data": {
            "text/plain": [
              "<Axes: ylabel='Count'>"
            ]
          },
          "metadata": {},
          "execution_count": 33
        },
        {
          "output_type": "display_data",
          "data": {
            "text/plain": [
              "<Figure size 640x480 with 1 Axes>"
            ],
            "image/png": "[encoded data removed]"
          },
          "metadata": {}
        }
      ],
      "source": [
        "# plot again\n",
        "ni_age_dist = X_train.select('ni_age').toPandas()\n",
        "\n",
        "sns.histplot(data = ni_age_dist)"
      ]
    },
    {
      "cell_type": "markdown",
      "source": [
        "WE will now impute the missing values with average of age"
      ],
      "metadata": {
        "id": "CTVOVLZE8M1t"
      }
    },
    {
      "cell_type": "code",
      "source": [
        "sum = X_train.select(F.sum(F.col('ni_age')).alias('sum')).show()\n",
        "count = X_train.select(F.count(F.col('ni_age')).alias('count')).show()"
      ],
      "metadata": {
        "colab": {
          "base_uri": "https://localhost:8080/"
        },
        "id": "N9KDHid03dNx",
        "outputId": "e98673ad-12ef-4f0b-c0eb-7dabc0e5994c"
      },
      "execution_count": null,
      "outputs": [
        {
          "output_type": "stream",
          "name": "stdout",
          "text": [
            "+-----------------+\n",
            "|              sum|\n",
            "+-----------------+\n",
            "|5198526.678989081|\n",
            "+-----------------+\n",
            "\n",
            "+------+\n",
            "| count|\n",
            "+------+\n",
            "|119661|\n",
            "+------+\n",
            "\n"
          ]
        }
      ]
    },
    {
      "cell_type": "code",
      "source": [
        "avg= 5198526.678989081/119661\n",
        "print(avg)"
      ],
      "metadata": {
        "colab": {
          "base_uri": "https://localhost:8080/"
        },
        "id": "ynswJj9g654r",
        "outputId": "01de0dc1-5a63-4087-a643-92da923eb4b1"
      },
      "execution_count": null,
      "outputs": [
        {
          "output_type": "stream",
          "name": "stdout",
          "text": [
            "43.44378434902834\n"
          ]
        }
      ]
    },
    {
      "cell_type": "code",
      "source": [
        "X_train= X_train.fillna(43.44, subset='ni_age')"
      ],
      "metadata": {
        "id": "zvtIO0k77G0Q"
      },
      "execution_count": null,
      "outputs": []
    },
    {
      "cell_type": "code",
      "source": [
        "sum = X_test.select(F.sum(F.col('ni_age')).alias('sum')).show()\n",
        "count = X_test.select(F.count(F.col('ni_age')).alias('count')).show()"
      ],
      "metadata": {
        "colab": {
          "base_uri": "https://localhost:8080/"
        },
        "id": "uprCK4HP7sIN",
        "outputId": "b1f146e3-bac1-4847-9dce-19a80edad080"
      },
      "execution_count": null,
      "outputs": [
        {
          "output_type": "stream",
          "name": "stdout",
          "text": [
            "+-------------------+\n",
            "|                sum|\n",
            "+-------------------+\n",
            "|1.495256645751464E7|\n",
            "+-------------------+\n",
            "\n",
            "+------+\n",
            "| count|\n",
            "+------+\n",
            "|343997|\n",
            "+------+\n",
            "\n"
          ]
        }
      ]
    },
    {
      "cell_type": "code",
      "source": [
        "avg= 1.495256645751464E7/343997\n",
        "print(avg)"
      ],
      "metadata": {
        "colab": {
          "base_uri": "https://localhost:8080/"
        },
        "id": "LduiWqSn75Z6",
        "outputId": "c8e9d93d-f8bd-44fa-842b-ebd4e9003dfb"
      },
      "execution_count": null,
      "outputs": [
        {
          "output_type": "stream",
          "name": "stdout",
          "text": [
            "43.467142031804464\n"
          ]
        }
      ]
    },
    {
      "cell_type": "code",
      "source": [
        "X_test= X_test.fillna(43.44, subset='ni_age')"
      ],
      "metadata": {
        "id": "bfTWjP2r8DxO"
      },
      "execution_count": null,
      "outputs": []
    },
    {
      "cell_type": "markdown",
      "metadata": {
        "id": "J7Ri7gCLBo4X"
      },
      "source": [
        "Much more normal distribution!"
      ]
    },
    {
      "cell_type": "markdown",
      "metadata": {
        "id": "lE5JUl4qdy1U"
      },
      "source": [
        "### `credit`"
      ]
    },
    {
      "cell_type": "code",
      "execution_count": null,
      "metadata": {
        "colab": {
          "base_uri": "https://localhost:8080/"
        },
        "id": "z0Mz9EVheDmq",
        "outputId": "3c9bada8-05ae-4e38-a18d-ac72d413cb75"
      },
      "outputs": [
        {
          "output_type": "stream",
          "name": "stdout",
          "text": [
            "+------+-----+\n",
            "|credit|count|\n",
            "+------+-----+\n",
            "|  null|  101|\n",
            "|   low|19438|\n",
            "|medium|26148|\n",
            "|  high|73974|\n",
            "+------+-----+\n",
            "\n"
          ]
        }
      ],
      "source": [
        "# ordinally encoding this\n",
        "X_train.groupBy('credit').count().orderBy('count').show()"
      ]
    },
    {
      "cell_type": "code",
      "execution_count": null,
      "metadata": {
        "id": "jv_p7l4SeJjq"
      },
      "outputs": [],
      "source": [
        "# drop null values:\n",
        "X_train = X_train.na.drop(subset = ['credit'])\n",
        "X_test = X_test.na.drop(subset = ['credit'])"
      ]
    },
    {
      "cell_type": "code",
      "execution_count": null,
      "metadata": {
        "colab": {
          "base_uri": "https://localhost:8080/"
        },
        "id": "_3eTCv11eWFk",
        "outputId": "501d43e3-7027-4367-b6a0-00ab38285544"
      },
      "outputs": [
        {
          "output_type": "stream",
          "name": "stdout",
          "text": [
            "+------+\n",
            "|credit|\n",
            "+------+\n",
            "|     2|\n",
            "|     2|\n",
            "|     0|\n",
            "|     2|\n",
            "|     1|\n",
            "|     2|\n",
            "|     2|\n",
            "|     1|\n",
            "|     2|\n",
            "|     2|\n",
            "|     2|\n",
            "|     2|\n",
            "|     0|\n",
            "|     1|\n",
            "|     0|\n",
            "|     2|\n",
            "|     0|\n",
            "|     1|\n",
            "|     1|\n",
            "|     2|\n",
            "+------+\n",
            "only showing top 20 rows\n",
            "\n"
          ]
        }
      ],
      "source": [
        "# encode with logic since this order is hierarchical (high should be 2, low should be 0)\n",
        "\n",
        "X_train = X_train.withColumn(\"credit\", F.when(F.col(\"credit\") == 'low', 0)\\\n",
        "                                       .when(F.col('credit') == 'medium', 1)\n",
        "                                       .otherwise(2))\n",
        "X_test = X_test.withColumn(\"credit\", F.when(F.col(\"credit\") == 'low', 0)\\\n",
        "                                       .when(F.col('credit') == 'medium', 1)\n",
        "                                       .otherwise(2))\n",
        "\n",
        "X_train.select('credit').show()"
      ]
    },
    {
      "cell_type": "markdown",
      "metadata": {
        "id": "lkc-9IUAfOmw"
      },
      "source": [
        "### `coverage_type`"
      ]
    },
    {
      "cell_type": "code",
      "execution_count": null,
      "metadata": {
        "colab": {
          "base_uri": "https://localhost:8080/"
        },
        "id": "jA23ahROiPFc",
        "outputId": "e6de3206-ea81-4c1c-e7a9-e38eb5f9bfbc"
      },
      "outputs": [
        {
          "output_type": "stream",
          "name": "stdout",
          "text": [
            "+-------------+-----+\n",
            "|coverage_type|count|\n",
            "+-------------+-----+\n",
            "|         null|  137|\n",
            "|            B|28343|\n",
            "|            A|40799|\n",
            "|            C|50281|\n",
            "+-------------+-----+\n",
            "\n"
          ]
        }
      ],
      "source": [
        "X_train.groupBy('coverage_type').count().orderBy('count').show()"
      ]
    },
    {
      "cell_type": "code",
      "execution_count": null,
      "metadata": {
        "id": "xNn7O5XUiWOF"
      },
      "outputs": [],
      "source": [
        "# remove null values to not confuse indexer/encoder\n",
        "\n",
        "X_train = X_train.na.drop(subset=['coverage_type'])\n",
        "X_test = X_test.na.drop(subset=['coverage_type'])"
      ]
    },
    {
      "cell_type": "code",
      "execution_count": null,
      "metadata": {
        "id": "Qksr82jufVdt"
      },
      "outputs": [],
      "source": [
        "# we are going to one-hot encode this column\n",
        "indexer = StringIndexer(inputCol = 'coverage_type', outputCol = 'coverage_type_ind')\n",
        "one = OneHotEncoder(inputCol = 'coverage_type_ind', outputCol = 'coverage_type_enc')\n",
        "\n",
        "X_train = indexer.fit(X_train).transform(X_train)\n",
        "X_test = indexer.fit(X_test).transform(X_test)\n",
        "X_train = one.fit(X_train).transform(X_train)\n",
        "X_test = one.fit(X_test).transform(X_test)"
      ]
    },
    {
      "cell_type": "code",
      "execution_count": null,
      "metadata": {
        "colab": {
          "base_uri": "https://localhost:8080/"
        },
        "id": "2oAJA4ZxbwCf",
        "outputId": "dc48c52a-f651-4f2d-c400-40087f770443"
      },
      "outputs": [
        {
          "output_type": "stream",
          "name": "stdout",
          "text": [
            "+---+----+------+----------+------+-------------+-------------+-----------------+-------------+---------+-----------------+--------+----------+------+---------+------+----+------------+---------------+-----------------+-----------------+\n",
            "| id|year|ni_age|len_at_res|credit|coverage_type|dwelling_type|          premium|sales_channel|ni_gender|ni_marital_status|n_adults|n_children|tenure|claim_ind|cancel|id_y|year_encoded|house_color_enc|coverage_type_ind|coverage_type_enc|\n",
            "+---+----+------+----------+------+-------------+-------------+-----------------+-------------+---------+-----------------+--------+----------+------+---------+------+----+------------+---------------+-----------------+-----------------+\n",
            "|  0|2016|  44.0|      25.0|     2|            A|        Condo|      950.7386189|       Broker|        F|              1.0|     3.0|       0.0|  17.0|      0.0|     0|   0|         0.0|  (3,[0],[1.0])|              1.0|    (2,[1],[1.0])|\n",
            "|  1|2015|  31.0|      22.0|     2|            B|       Tenant|      1003.420558|       Broker|        M|              0.0|     2.0|       0.0|   8.0|      1.0|     0|   1|         1.0|      (3,[],[])|              2.0|        (2,[],[])|\n",
            "|  2|2015|  39.0|      17.0|     0|            C|        House|822.5538692000001|        Phone|        M|              1.0|     3.0|       0.0|   8.0|      0.0|     0|   2|         1.0|  (3,[0],[1.0])|              0.0|    (2,[0],[1.0])|\n",
            "|  3|2013|  37.0|      22.0|     2|            B|        House|      827.0485096|        Phone|        F|              1.0|     1.0|       2.0|  16.0|      0.0|     0|   3|         3.0|  (3,[0],[1.0])|              2.0|        (2,[],[])|\n",
            "|  4|2013|  39.0|      13.0|     1|            C|        Condo|      706.7646465|       Broker|        F|              1.0|     1.0|       0.0|  14.0|      0.0|     0|   4|         3.0|  (3,[2],[1.0])|              0.0|    (2,[0],[1.0])|\n",
            "|  5|2015|  26.0|      14.0|     2|            C|        House|      999.6689768|       Broker|        M|              1.0|     4.0|       1.0|   4.0|      0.0|     0|   5|         1.0|  (3,[0],[1.0])|              0.0|    (2,[0],[1.0])|\n",
            "|  6|2015|  36.0|      17.0|     2|            A|       Tenant|      881.7901489|        Phone|        F|              1.0|     2.0|       1.0|   2.0|      1.0|     0|   6|         1.0|  (3,[1],[1.0])|              1.0|    (2,[1],[1.0])|\n",
            "|  7|2015|  37.0|      12.0|     1|            A|       Tenant|824.6881802999999|       Broker|        F|              0.0|     4.0|       0.0|   0.0|      0.0|     0|   7|         1.0|  (3,[0],[1.0])|              1.0|    (2,[1],[1.0])|\n",
            "|  8|2015|  47.0|      12.0|     2|            C|        House|      824.1878299|       Broker|        M|              1.0|     1.0|       3.0|  18.0|      1.0|     0|   8|         1.0|  (3,[2],[1.0])|              0.0|    (2,[0],[1.0])|\n",
            "|  9|2015|  29.0|       6.0|     2|            A|        Condo|      1041.867835|       Broker|        F|              1.0|     1.0|       0.0|   6.0|      0.0|     0|   9|         1.0|  (3,[0],[1.0])|              1.0|    (2,[1],[1.0])|\n",
            "| 10|2014|  61.0|       8.0|     2|            A|        House|824.6099092999999|       Broker|        M|              1.0|     1.0|       1.0|  23.0|      0.0|     0|  10|         2.0|  (3,[2],[1.0])|              1.0|    (2,[1],[1.0])|\n",
            "| 11|2016|  42.0|      19.0|     2|            C|        House|      882.0434817|        Phone|        M|              0.0|     2.0|       1.0|  14.0|      0.0|     0|  11|         0.0|  (3,[1],[1.0])|              0.0|    (2,[0],[1.0])|\n",
            "| 12|2016|  33.0|      13.0|     0|            C|        Condo|      902.3094373|       Broker|        F|              0.0|     1.0|       0.0|   6.0|      1.0|     0|  12|         0.0|  (3,[2],[1.0])|              0.0|    (2,[0],[1.0])|\n",
            "| 13|2013|  53.0|      13.0|     1|            B|        House|      767.0643712|       Broker|        M|              1.0|     3.0|       1.0|  15.0|      0.0|     0|  13|         3.0|  (3,[1],[1.0])|              2.0|        (2,[],[])|\n",
            "| 14|2014|  49.0|      12.0|     0|            A|       Tenant|      965.7790739|       Broker|        M|              1.0|     3.0|       1.0|  19.0|      0.0|     0|  14|         2.0|  (3,[0],[1.0])|              1.0|    (2,[1],[1.0])|\n",
            "| 15|2015|  62.0|      14.0|     2|            A|        Condo|914.6389207999998|       Broker|        M|              0.0|     2.0|       0.0|  12.0|      0.0|     0|  15|         1.0|  (3,[1],[1.0])|              1.0|    (2,[1],[1.0])|\n",
            "| 16|2014|  47.0|      21.0|     0|            A|        Condo|      790.2149754|       Broker|        M|              1.0|     1.0|       1.0|  14.0|      0.0|     0|  16|         2.0|  (3,[1],[1.0])|              1.0|    (2,[1],[1.0])|\n",
            "| 17|2015|  27.0|      25.0|     1|            A|        House|      942.5149163|        Phone|        F|              0.0|     1.0|       0.0|   7.0|      0.0|     0|  17|         1.0|  (3,[1],[1.0])|              1.0|    (2,[1],[1.0])|\n",
            "| 18|2016|  51.0|      14.0|     1|            B|        House|      726.7544091|       Broker|        M|              0.0|     2.0|       0.0|  22.0|      0.0|     0|  18|         0.0|  (3,[1],[1.0])|              2.0|        (2,[],[])|\n",
            "| 19|2016|  46.0|      10.0|     2|            A|       Tenant|       990.864223|        Phone|     null|              1.0|     3.0|       2.0|  15.0|      0.0|     0|  19|         0.0|  (3,[0],[1.0])|              1.0|    (2,[1],[1.0])|\n",
            "+---+----+------+----------+------+-------------+-------------+-----------------+-------------+---------+-----------------+--------+----------+------+---------+------+----+------------+---------------+-----------------+-----------------+\n",
            "only showing top 20 rows\n",
            "\n"
          ]
        }
      ],
      "source": [
        "X_train.show()"
      ]
    },
    {
      "cell_type": "code",
      "execution_count": null,
      "metadata": {
        "id": "Fm-Yf9-5bxvR"
      },
      "outputs": [],
      "source": [
        "# ['coverage_A', 'coverage_B']\n",
        "X_train = X_train.drop('coverage_type')\n",
        "X_train = X_train.drop('coverage_type_ind')\n",
        "X_test = X_test.drop('coverage_type')\n",
        "X_test = X_test.drop('coverage_type_ind')"
      ]
    },
    {
      "cell_type": "markdown",
      "metadata": {
        "id": "257UoqLkij8C"
      },
      "source": [
        "### `dwelling_type`"
      ]
    },
    {
      "cell_type": "code",
      "execution_count": null,
      "metadata": {
        "colab": {
          "base_uri": "https://localhost:8080/"
        },
        "id": "EdXZES-zirL8",
        "outputId": "1c62c41f-86df-4f3d-ac04-4187b42238ee"
      },
      "outputs": [
        {
          "output_type": "stream",
          "name": "stdout",
          "text": [
            "+-------------+-----+\n",
            "|dwelling_type|count|\n",
            "+-------------+-----+\n",
            "|         null|  127|\n",
            "|       Tenant|23715|\n",
            "|        Condo|28605|\n",
            "|        House|66976|\n",
            "+-------------+-----+\n",
            "\n"
          ]
        }
      ],
      "source": [
        "X_train.groupBy('dwelling_type').count().orderBy('count').show()"
      ]
    },
    {
      "cell_type": "code",
      "execution_count": null,
      "metadata": {
        "id": "sz9sBCfHirL9"
      },
      "outputs": [],
      "source": [
        "# remove null values to not confuse indexer/encoder\n",
        "\n",
        "X_train = X_train.na.drop(subset=['dwelling_type'])\n",
        "X_test = X_test.na.drop(subset=['dwelling_type'])"
      ]
    },
    {
      "cell_type": "code",
      "execution_count": null,
      "metadata": {
        "id": "E-0Ox1VXirL9"
      },
      "outputs": [],
      "source": [
        "# we are going to one-hot encode this column\n",
        "indexer = StringIndexer(inputCol = 'dwelling_type', outputCol = 'dwelling_type_ind')\n",
        "one = OneHotEncoder(inputCol = 'dwelling_type_ind', outputCol = 'dwelling_type_enc')\n",
        "\n",
        "X_train = indexer.fit(X_train).transform(X_train)\n",
        "X_test = indexer.fit(X_test).transform(X_test)\n",
        "X_train = one.fit(X_train).transform(X_train)\n",
        "X_test = one.fit(X_test).transform(X_test)"
      ]
    },
    {
      "cell_type": "code",
      "execution_count": null,
      "metadata": {
        "colab": {
          "base_uri": "https://localhost:8080/"
        },
        "id": "h9SNcMhFb5UT",
        "outputId": "67b7e521-0530-4a99-a584-f76e60d5b34f"
      },
      "outputs": [
        {
          "output_type": "stream",
          "name": "stdout",
          "text": [
            "+---+----+------+----------+------+-------------+-----------------+-------------+---------+-----------------+--------+----------+------+---------+------+----+------------+---------------+-----------------+-----------------+-----------------+\n",
            "| id|year|ni_age|len_at_res|credit|dwelling_type|          premium|sales_channel|ni_gender|ni_marital_status|n_adults|n_children|tenure|claim_ind|cancel|id_y|year_encoded|house_color_enc|coverage_type_enc|dwelling_type_ind|dwelling_type_enc|\n",
            "+---+----+------+----------+------+-------------+-----------------+-------------+---------+-----------------+--------+----------+------+---------+------+----+------------+---------------+-----------------+-----------------+-----------------+\n",
            "|  0|2016|  44.0|      25.0|     2|        Condo|      950.7386189|       Broker|        F|              1.0|     3.0|       0.0|  17.0|      0.0|     0|   0|         0.0|  (3,[0],[1.0])|    (2,[1],[1.0])|              1.0|    (2,[1],[1.0])|\n",
            "|  1|2015|  31.0|      22.0|     2|       Tenant|      1003.420558|       Broker|        M|              0.0|     2.0|       0.0|   8.0|      1.0|     0|   1|         1.0|      (3,[],[])|        (2,[],[])|              2.0|        (2,[],[])|\n",
            "|  2|2015|  39.0|      17.0|     0|        House|822.5538692000001|        Phone|        M|              1.0|     3.0|       0.0|   8.0|      0.0|     0|   2|         1.0|  (3,[0],[1.0])|    (2,[0],[1.0])|              0.0|    (2,[0],[1.0])|\n",
            "|  3|2013|  37.0|      22.0|     2|        House|      827.0485096|        Phone|        F|              1.0|     1.0|       2.0|  16.0|      0.0|     0|   3|         3.0|  (3,[0],[1.0])|        (2,[],[])|              0.0|    (2,[0],[1.0])|\n",
            "|  4|2013|  39.0|      13.0|     1|        Condo|      706.7646465|       Broker|        F|              1.0|     1.0|       0.0|  14.0|      0.0|     0|   4|         3.0|  (3,[2],[1.0])|    (2,[0],[1.0])|              1.0|    (2,[1],[1.0])|\n",
            "|  5|2015|  26.0|      14.0|     2|        House|      999.6689768|       Broker|        M|              1.0|     4.0|       1.0|   4.0|      0.0|     0|   5|         1.0|  (3,[0],[1.0])|    (2,[0],[1.0])|              0.0|    (2,[0],[1.0])|\n",
            "|  6|2015|  36.0|      17.0|     2|       Tenant|      881.7901489|        Phone|        F|              1.0|     2.0|       1.0|   2.0|      1.0|     0|   6|         1.0|  (3,[1],[1.0])|    (2,[1],[1.0])|              2.0|        (2,[],[])|\n",
            "|  7|2015|  37.0|      12.0|     1|       Tenant|824.6881802999999|       Broker|        F|              0.0|     4.0|       0.0|   0.0|      0.0|     0|   7|         1.0|  (3,[0],[1.0])|    (2,[1],[1.0])|              2.0|        (2,[],[])|\n",
            "|  8|2015|  47.0|      12.0|     2|        House|      824.1878299|       Broker|        M|              1.0|     1.0|       3.0|  18.0|      1.0|     0|   8|         1.0|  (3,[2],[1.0])|    (2,[0],[1.0])|              0.0|    (2,[0],[1.0])|\n",
            "|  9|2015|  29.0|       6.0|     2|        Condo|      1041.867835|       Broker|        F|              1.0|     1.0|       0.0|   6.0|      0.0|     0|   9|         1.0|  (3,[0],[1.0])|    (2,[1],[1.0])|              1.0|    (2,[1],[1.0])|\n",
            "| 10|2014|  61.0|       8.0|     2|        House|824.6099092999999|       Broker|        M|              1.0|     1.0|       1.0|  23.0|      0.0|     0|  10|         2.0|  (3,[2],[1.0])|    (2,[1],[1.0])|              0.0|    (2,[0],[1.0])|\n",
            "| 11|2016|  42.0|      19.0|     2|        House|      882.0434817|        Phone|        M|              0.0|     2.0|       1.0|  14.0|      0.0|     0|  11|         0.0|  (3,[1],[1.0])|    (2,[0],[1.0])|              0.0|    (2,[0],[1.0])|\n",
            "| 12|2016|  33.0|      13.0|     0|        Condo|      902.3094373|       Broker|        F|              0.0|     1.0|       0.0|   6.0|      1.0|     0|  12|         0.0|  (3,[2],[1.0])|    (2,[0],[1.0])|              1.0|    (2,[1],[1.0])|\n",
            "| 13|2013|  53.0|      13.0|     1|        House|      767.0643712|       Broker|        M|              1.0|     3.0|       1.0|  15.0|      0.0|     0|  13|         3.0|  (3,[1],[1.0])|        (2,[],[])|              0.0|    (2,[0],[1.0])|\n",
            "| 14|2014|  49.0|      12.0|     0|       Tenant|      965.7790739|       Broker|        M|              1.0|     3.0|       1.0|  19.0|      0.0|     0|  14|         2.0|  (3,[0],[1.0])|    (2,[1],[1.0])|              2.0|        (2,[],[])|\n",
            "| 15|2015|  62.0|      14.0|     2|        Condo|914.6389207999998|       Broker|        M|              0.0|     2.0|       0.0|  12.0|      0.0|     0|  15|         1.0|  (3,[1],[1.0])|    (2,[1],[1.0])|              1.0|    (2,[1],[1.0])|\n",
            "| 16|2014|  47.0|      21.0|     0|        Condo|      790.2149754|       Broker|        M|              1.0|     1.0|       1.0|  14.0|      0.0|     0|  16|         2.0|  (3,[1],[1.0])|    (2,[1],[1.0])|              1.0|    (2,[1],[1.0])|\n",
            "| 17|2015|  27.0|      25.0|     1|        House|      942.5149163|        Phone|        F|              0.0|     1.0|       0.0|   7.0|      0.0|     0|  17|         1.0|  (3,[1],[1.0])|    (2,[1],[1.0])|              0.0|    (2,[0],[1.0])|\n",
            "| 18|2016|  51.0|      14.0|     1|        House|      726.7544091|       Broker|        M|              0.0|     2.0|       0.0|  22.0|      0.0|     0|  18|         0.0|  (3,[1],[1.0])|        (2,[],[])|              0.0|    (2,[0],[1.0])|\n",
            "| 19|2016|  46.0|      10.0|     2|       Tenant|       990.864223|        Phone|     null|              1.0|     3.0|       2.0|  15.0|      0.0|     0|  19|         0.0|  (3,[0],[1.0])|    (2,[1],[1.0])|              2.0|        (2,[],[])|\n",
            "+---+----+------+----------+------+-------------+-----------------+-------------+---------+-----------------+--------+----------+------+---------+------+----+------------+---------------+-----------------+-----------------+-----------------+\n",
            "only showing top 20 rows\n",
            "\n"
          ]
        }
      ],
      "source": [
        "X_train.show()"
      ]
    },
    {
      "cell_type": "code",
      "execution_count": null,
      "metadata": {
        "id": "lkC0BouYb63M"
      },
      "outputs": [],
      "source": [
        "# ['dwelling_house', 'dwelling_condo']\n",
        "X_train = X_train.drop('dwelling_type')\n",
        "X_train = X_train.drop('dwelling_type_ind')\n",
        "X_test = X_test.drop('dwelling_type')\n",
        "X_test = X_test.drop('dwelling_type_ind')"
      ]
    },
    {
      "cell_type": "code",
      "source": [
        "n"
      ],
      "metadata": {
        "id": "2NOel9kspPG_"
      },
      "execution_count": null,
      "outputs": []
    },
    {
      "cell_type": "markdown",
      "metadata": {
        "id": "O4FqMHXNi0Og"
      },
      "source": [
        "### `sales_channel`"
      ]
    },
    {
      "cell_type": "code",
      "execution_count": null,
      "metadata": {
        "colab": {
          "base_uri": "https://localhost:8080/"
        },
        "id": "znkebpOJi6_f",
        "outputId": "e2cd255b-aea9-41a8-b5c4-4c468e53ccb1"
      },
      "outputs": [
        {
          "output_type": "stream",
          "name": "stdout",
          "text": [
            "+-------------+-----+\n",
            "|sales_channel|count|\n",
            "+-------------+-----+\n",
            "|         null|  118|\n",
            "|       Online|10152|\n",
            "|        Phone|39828|\n",
            "|       Broker|69198|\n",
            "+-------------+-----+\n",
            "\n"
          ]
        }
      ],
      "source": [
        "X_train.groupBy('sales_channel').count().orderBy('count').show()"
      ]
    },
    {
      "cell_type": "code",
      "execution_count": null,
      "metadata": {
        "id": "JbVSN-ZRi6_f"
      },
      "outputs": [],
      "source": [
        "# remove null values to not confuse indexer/encoder\n",
        "\n",
        "X_train = X_train.na.drop(subset=['sales_channel'])\n",
        "X_test = X_test.na.drop(subset=['sales_channel'])"
      ]
    },
    {
      "cell_type": "code",
      "execution_count": null,
      "metadata": {
        "id": "z9avM0C_i6_f"
      },
      "outputs": [],
      "source": [
        "# we are going to one-hot encode this column\n",
        "indexer = StringIndexer(inputCol = 'sales_channel', outputCol = 'sales_channel_ind')\n",
        "one = OneHotEncoder(inputCol = 'sales_channel_ind', outputCol = 'sales_channel_enc')\n",
        "\n",
        "X_train = indexer.fit(X_train).transform(X_train)\n",
        "X_test = indexer.fit(X_test).transform(X_test)\n",
        "X_train = one.fit(X_train).transform(X_train)\n",
        "X_test = one.fit(X_test).transform(X_test)"
      ]
    },
    {
      "cell_type": "code",
      "execution_count": null,
      "metadata": {
        "colab": {
          "base_uri": "https://localhost:8080/"
        },
        "id": "iDnj8hSgencG",
        "outputId": "afd6c9c5-3fc4-4755-87f7-6fed0911059f"
      },
      "outputs": [
        {
          "output_type": "stream",
          "name": "stdout",
          "text": [
            "+---+----+------+----------+------+-----------------+-------------+---------+-----------------+--------+----------+------+---------+------+----+------------+---------------+-----------------+-----------------+-----------------+-----------------+\n",
            "| id|year|ni_age|len_at_res|credit|          premium|sales_channel|ni_gender|ni_marital_status|n_adults|n_children|tenure|claim_ind|cancel|id_y|year_encoded|house_color_enc|coverage_type_enc|dwelling_type_enc|sales_channel_ind|sales_channel_enc|\n",
            "+---+----+------+----------+------+-----------------+-------------+---------+-----------------+--------+----------+------+---------+------+----+------------+---------------+-----------------+-----------------+-----------------+-----------------+\n",
            "|  0|2016|  44.0|      25.0|     2|      950.7386189|       Broker|        F|              1.0|     3.0|       0.0|  17.0|      0.0|     0|   0|         0.0|  (3,[0],[1.0])|    (2,[1],[1.0])|    (2,[1],[1.0])|              0.0|    (2,[0],[1.0])|\n",
            "|  1|2015|  31.0|      22.0|     2|      1003.420558|       Broker|        M|              0.0|     2.0|       0.0|   8.0|      1.0|     0|   1|         1.0|      (3,[],[])|        (2,[],[])|        (2,[],[])|              0.0|    (2,[0],[1.0])|\n",
            "|  2|2015|  39.0|      17.0|     0|822.5538692000001|        Phone|        M|              1.0|     3.0|       0.0|   8.0|      0.0|     0|   2|         1.0|  (3,[0],[1.0])|    (2,[0],[1.0])|    (2,[0],[1.0])|              1.0|    (2,[1],[1.0])|\n",
            "|  3|2013|  37.0|      22.0|     2|      827.0485096|        Phone|        F|              1.0|     1.0|       2.0|  16.0|      0.0|     0|   3|         3.0|  (3,[0],[1.0])|        (2,[],[])|    (2,[0],[1.0])|              1.0|    (2,[1],[1.0])|\n",
            "|  4|2013|  39.0|      13.0|     1|      706.7646465|       Broker|        F|              1.0|     1.0|       0.0|  14.0|      0.0|     0|   4|         3.0|  (3,[2],[1.0])|    (2,[0],[1.0])|    (2,[1],[1.0])|              0.0|    (2,[0],[1.0])|\n",
            "|  5|2015|  26.0|      14.0|     2|      999.6689768|       Broker|        M|              1.0|     4.0|       1.0|   4.0|      0.0|     0|   5|         1.0|  (3,[0],[1.0])|    (2,[0],[1.0])|    (2,[0],[1.0])|              0.0|    (2,[0],[1.0])|\n",
            "|  6|2015|  36.0|      17.0|     2|      881.7901489|        Phone|        F|              1.0|     2.0|       1.0|   2.0|      1.0|     0|   6|         1.0|  (3,[1],[1.0])|    (2,[1],[1.0])|        (2,[],[])|              1.0|    (2,[1],[1.0])|\n",
            "|  7|2015|  37.0|      12.0|     1|824.6881802999999|       Broker|        F|              0.0|     4.0|       0.0|   0.0|      0.0|     0|   7|         1.0|  (3,[0],[1.0])|    (2,[1],[1.0])|        (2,[],[])|              0.0|    (2,[0],[1.0])|\n",
            "|  8|2015|  47.0|      12.0|     2|      824.1878299|       Broker|        M|              1.0|     1.0|       3.0|  18.0|      1.0|     0|   8|         1.0|  (3,[2],[1.0])|    (2,[0],[1.0])|    (2,[0],[1.0])|              0.0|    (2,[0],[1.0])|\n",
            "|  9|2015|  29.0|       6.0|     2|      1041.867835|       Broker|        F|              1.0|     1.0|       0.0|   6.0|      0.0|     0|   9|         1.0|  (3,[0],[1.0])|    (2,[1],[1.0])|    (2,[1],[1.0])|              0.0|    (2,[0],[1.0])|\n",
            "| 10|2014|  61.0|       8.0|     2|824.6099092999999|       Broker|        M|              1.0|     1.0|       1.0|  23.0|      0.0|     0|  10|         2.0|  (3,[2],[1.0])|    (2,[1],[1.0])|    (2,[0],[1.0])|              0.0|    (2,[0],[1.0])|\n",
            "| 11|2016|  42.0|      19.0|     2|      882.0434817|        Phone|        M|              0.0|     2.0|       1.0|  14.0|      0.0|     0|  11|         0.0|  (3,[1],[1.0])|    (2,[0],[1.0])|    (2,[0],[1.0])|              1.0|    (2,[1],[1.0])|\n",
            "| 12|2016|  33.0|      13.0|     0|      902.3094373|       Broker|        F|              0.0|     1.0|       0.0|   6.0|      1.0|     0|  12|         0.0|  (3,[2],[1.0])|    (2,[0],[1.0])|    (2,[1],[1.0])|              0.0|    (2,[0],[1.0])|\n",
            "| 13|2013|  53.0|      13.0|     1|      767.0643712|       Broker|        M|              1.0|     3.0|       1.0|  15.0|      0.0|     0|  13|         3.0|  (3,[1],[1.0])|        (2,[],[])|    (2,[0],[1.0])|              0.0|    (2,[0],[1.0])|\n",
            "| 14|2014|  49.0|      12.0|     0|      965.7790739|       Broker|        M|              1.0|     3.0|       1.0|  19.0|      0.0|     0|  14|         2.0|  (3,[0],[1.0])|    (2,[1],[1.0])|        (2,[],[])|              0.0|    (2,[0],[1.0])|\n",
            "| 15|2015|  62.0|      14.0|     2|914.6389207999998|       Broker|        M|              0.0|     2.0|       0.0|  12.0|      0.0|     0|  15|         1.0|  (3,[1],[1.0])|    (2,[1],[1.0])|    (2,[1],[1.0])|              0.0|    (2,[0],[1.0])|\n",
            "| 16|2014|  47.0|      21.0|     0|      790.2149754|       Broker|        M|              1.0|     1.0|       1.0|  14.0|      0.0|     0|  16|         2.0|  (3,[1],[1.0])|    (2,[1],[1.0])|    (2,[1],[1.0])|              0.0|    (2,[0],[1.0])|\n",
            "| 17|2015|  27.0|      25.0|     1|      942.5149163|        Phone|        F|              0.0|     1.0|       0.0|   7.0|      0.0|     0|  17|         1.0|  (3,[1],[1.0])|    (2,[1],[1.0])|    (2,[0],[1.0])|              1.0|    (2,[1],[1.0])|\n",
            "| 18|2016|  51.0|      14.0|     1|      726.7544091|       Broker|        M|              0.0|     2.0|       0.0|  22.0|      0.0|     0|  18|         0.0|  (3,[1],[1.0])|        (2,[],[])|    (2,[0],[1.0])|              0.0|    (2,[0],[1.0])|\n",
            "| 19|2016|  46.0|      10.0|     2|       990.864223|        Phone|     null|              1.0|     3.0|       2.0|  15.0|      0.0|     0|  19|         0.0|  (3,[0],[1.0])|    (2,[1],[1.0])|        (2,[],[])|              1.0|    (2,[1],[1.0])|\n",
            "+---+----+------+----------+------+-----------------+-------------+---------+-----------------+--------+----------+------+---------+------+----+------------+---------------+-----------------+-----------------+-----------------+-----------------+\n",
            "only showing top 20 rows\n",
            "\n"
          ]
        }
      ],
      "source": [
        "X_train.show()"
      ]
    },
    {
      "cell_type": "code",
      "execution_count": null,
      "metadata": {
        "id": "OqnAhWhLeo_W"
      },
      "outputs": [],
      "source": [
        "# ['sales_broker', 'sales_phone']\n",
        "X_train = X_train.drop('sales_channel_ind')\n",
        "X_train = X_train.drop('sales_channel')\n",
        "X_test = X_test.drop('sales_channel_ind')\n",
        "X_test = X_test.drop('sales_channel')"
      ]
    },
    {
      "cell_type": "markdown",
      "metadata": {
        "id": "YNuy24frjC5M"
      },
      "source": [
        "### `ni_gender`"
      ]
    },
    {
      "cell_type": "code",
      "execution_count": null,
      "metadata": {
        "colab": {
          "base_uri": "https://localhost:8080/"
        },
        "id": "WSJ5_nAHjGnq",
        "outputId": "165ac857-2c9c-4fe2-8b44-476198606f41"
      },
      "outputs": [
        {
          "output_type": "stream",
          "name": "stdout",
          "text": [
            "+---------+-----+\n",
            "|ni_gender|count|\n",
            "+---------+-----+\n",
            "|     null|  123|\n",
            "|        F|57138|\n",
            "|        M|61917|\n",
            "+---------+-----+\n",
            "\n"
          ]
        }
      ],
      "source": [
        "X_train.groupBy('ni_gender').count().orderBy('count').show()"
      ]
    },
    {
      "cell_type": "code",
      "execution_count": null,
      "metadata": {
        "id": "ZamOAH-FjKfy"
      },
      "outputs": [],
      "source": [
        "# remove null values to not confuse indexer/encoder\n",
        "\n",
        "X_train = X_train.na.drop(subset=['ni_gender'])\n",
        "X_test = X_test.na.drop(subset=['ni_gender'])"
      ]
    },
    {
      "cell_type": "code",
      "execution_count": null,
      "metadata": {
        "id": "ZzEnW4aPjZzb"
      },
      "outputs": [],
      "source": [
        "# conditionally replace M and F with 0 and 1 respectively\n",
        "\n",
        "X_train = X_train.withColumn('ni_gender', F.when(F.col('ni_gender') == 'M', 0)\\\n",
        "                             .otherwise(1))\n",
        "X_test = X_test.withColumn('ni_gender', F.when(F.col('ni_gender') == 'M', 0)\\\n",
        "                             .otherwise(1))"
      ]
    },
    {
      "cell_type": "markdown",
      "metadata": {
        "id": "wtrruZDbj1zv"
      },
      "source": [
        "### `ni_marital_status`"
      ]
    },
    {
      "cell_type": "code",
      "execution_count": null,
      "metadata": {
        "colab": {
          "base_uri": "https://localhost:8080/"
        },
        "id": "CCC8FUaPj5Ba",
        "outputId": "69350b6c-1cbc-408a-b75d-02b8c3f991a2"
      },
      "outputs": [
        {
          "output_type": "stream",
          "name": "stdout",
          "text": [
            "+-----------------+-----+\n",
            "|ni_marital_status|count|\n",
            "+-----------------+-----+\n",
            "|             null|  117|\n",
            "|              0.0|34747|\n",
            "|              1.0|84191|\n",
            "+-----------------+-----+\n",
            "\n"
          ]
        }
      ],
      "source": [
        "X_train.groupBy('ni_marital_status').count().orderBy('count').show()"
      ]
    },
    {
      "cell_type": "code",
      "execution_count": null,
      "metadata": {
        "id": "G2s07vCrj-QK"
      },
      "outputs": [],
      "source": [
        "# simply clean this up\n",
        "\n",
        "X_train = X_train.na.drop(subset=['ni_marital_status'])\n",
        "X_test = X_test.na.drop(subset=['ni_marital_status'])"
      ]
    },
    {
      "cell_type": "markdown",
      "metadata": {
        "id": "ODPDGuMekE_j"
      },
      "source": [
        "### `claim_ind`"
      ]
    },
    {
      "cell_type": "code",
      "execution_count": null,
      "metadata": {
        "colab": {
          "base_uri": "https://localhost:8080/"
        },
        "id": "B5i67zvZkJ9Q",
        "outputId": "bee21d13-a76d-4e9e-cf0f-33e1f2cf5260"
      },
      "outputs": [
        {
          "output_type": "stream",
          "name": "stdout",
          "text": [
            "+---------+-----+\n",
            "|claim_ind|count|\n",
            "+---------+-----+\n",
            "|     null|  126|\n",
            "|      1.0|23669|\n",
            "|      0.0|95143|\n",
            "+---------+-----+\n",
            "\n"
          ]
        }
      ],
      "source": [
        "X_train.groupBy('claim_ind').count().orderBy('count').show()"
      ]
    },
    {
      "cell_type": "code",
      "execution_count": null,
      "metadata": {
        "id": "8l-oi7cvkQNt"
      },
      "outputs": [],
      "source": [
        "# simply clean this up\n",
        "\n",
        "X_train = X_train.na.drop(subset=['claim_ind'])\n",
        "X_test = X_test.na.drop(subset=['claim_ind'])"
      ]
    },
    {
      "cell_type": "markdown",
      "metadata": {
        "id": "2_PxgzNWkTf_"
      },
      "source": [
        "### Clean the rest"
      ]
    },
    {
      "cell_type": "code",
      "execution_count": null,
      "metadata": {
        "colab": {
          "base_uri": "https://localhost:8080/"
        },
        "id": "QaRBv6ulkV6F",
        "outputId": "f0a64dbb-492f-42db-f512-34b7d261c3f9"
      },
      "outputs": [
        {
          "output_type": "stream",
          "name": "stdout",
          "text": [
            "+---+----+------+----------+------+-------+---------+-----------------+--------+----------+------+---------+------+----+------------+---------------+-----------------+-----------------+-----------------+\n",
            "| id|year|ni_age|len_at_res|credit|premium|ni_gender|ni_marital_status|n_adults|n_children|tenure|claim_ind|cancel|id_y|year_encoded|house_color_enc|coverage_type_enc|dwelling_type_enc|sales_channel_enc|\n",
            "+---+----+------+----------+------+-------+---------+-----------------+--------+----------+------+---------+------+----+------------+---------------+-----------------+-----------------+-----------------+\n",
            "|  0|   0|     0|       112|     0|    100|        0|                0|      92|        95|   123|        0|     0|   0|           0|              0|                0|                0|                0|\n",
            "+---+----+------+----------+------+-------+---------+-----------------+--------+----------+------+---------+------+----+------------+---------------+-----------------+-----------------+-----------------+\n",
            "\n"
          ]
        }
      ],
      "source": [
        "# Let's see what other null values there are\n",
        "\n",
        "X_train.select([F.count(F.when(F.col(c).isNull(), c\n",
        "                           )).alias(c)\n",
        "                    for c in X_train.columns]).show()"
      ]
    },
    {
      "cell_type": "markdown",
      "metadata": {
        "id": "wbrgec3Xv1vz"
      },
      "source": [
        "There are not too many na values, let's drop them all. They are in the following columns:\n",
        "* `len_at_res`\n",
        "* `premium`\n",
        "* `n_adults`\n",
        "* `n_children`\n",
        "* `tenure`"
      ]
    },
    {
      "cell_type": "code",
      "execution_count": null,
      "metadata": {
        "id": "ArV-uyykwrJ3"
      },
      "outputs": [],
      "source": [
        "X_train = X_train.na.drop(subset=['len_at_res', 'premium', 'n_adults', 'n_children', 'tenure'])\n",
        "X_test = X_test.na.drop(subset=['len_at_res', 'premium', 'n_adults', 'n_children', 'tenure'])"
      ]
    },
    {
      "cell_type": "code",
      "execution_count": null,
      "metadata": {
        "colab": {
          "base_uri": "https://localhost:8080/"
        },
        "id": "ANYV055nxAWZ",
        "outputId": "7e560ea1-8dfa-4dc5-a473-6317ed5bd52b"
      },
      "outputs": [
        {
          "output_type": "stream",
          "name": "stdout",
          "text": [
            "+---+----+------+----------+------+-------+---------+-----------------+--------+----------+------+---------+------+----+------------+---------------+-----------------+-----------------+-----------------+\n",
            "| id|year|ni_age|len_at_res|credit|premium|ni_gender|ni_marital_status|n_adults|n_children|tenure|claim_ind|cancel|id_y|year_encoded|house_color_enc|coverage_type_enc|dwelling_type_enc|sales_channel_enc|\n",
            "+---+----+------+----------+------+-------+---------+-----------------+--------+----------+------+---------+------+----+------------+---------------+-----------------+-----------------+-----------------+\n",
            "|  0|   0|     0|         0|     0|      0|        0|                0|       0|         0|     0|        0|     0|   0|           0|              0|                0|                0|                0|\n",
            "+---+----+------+----------+------+-------+---------+-----------------+--------+----------+------+---------+------+----+------------+---------------+-----------------+-----------------+-----------------+\n",
            "\n"
          ]
        }
      ],
      "source": [
        "X_train.select([F.count(F.when(F.col(c).isNull(), c\n",
        "                           )).alias(c)\n",
        "                    for c in X_train.columns]).show()"
      ]
    },
    {
      "cell_type": "code",
      "execution_count": null,
      "metadata": {
        "colab": {
          "base_uri": "https://localhost:8080/"
        },
        "id": "shNSOVnExBZI",
        "outputId": "6de2bdad-58f9-488b-e66c-0f12826d2f50"
      },
      "outputs": [
        {
          "output_type": "stream",
          "name": "stdout",
          "text": [
            "+---+----+------+----------+------+-------+---------+-----------------+--------+----------+------+---------+------+----+------------+---------------+-----------------+-----------------+-----------------+\n",
            "| id|year|ni_age|len_at_res|credit|premium|ni_gender|ni_marital_status|n_adults|n_children|tenure|claim_ind|cancel|id_y|year_encoded|house_color_enc|coverage_type_enc|dwelling_type_enc|sales_channel_enc|\n",
            "+---+----+------+----------+------+-------+---------+-----------------+--------+----------+------+---------+------+----+------------+---------------+-----------------+-----------------+-----------------+\n",
            "|  0|   0|     0|         0|     0|      0|        0|                0|       0|         0|     0|        0|     0|   0|           0|              0|                0|                0|                0|\n",
            "+---+----+------+----------+------+-------+---------+-----------------+--------+----------+------+---------+------+----+------------+---------------+-----------------+-----------------+-----------------+\n",
            "\n"
          ]
        }
      ],
      "source": [
        "X_test.select([F.count(F.when(F.col(c).isNull(), c\n",
        "                           )).alias(c)\n",
        "                    for c in X_train.columns]).show()"
      ]
    },
    {
      "cell_type": "code",
      "execution_count": null,
      "metadata": {
        "colab": {
          "base_uri": "https://localhost:8080/"
        },
        "id": "WRkW3-Etie9W",
        "outputId": "b5a291d8-d0b3-4aad-ca30-81239f1cd2b1"
      },
      "outputs": [
        {
          "output_type": "stream",
          "name": "stdout",
          "text": [
            "+---+----+------+----------+------+-----------------+---------+-----------------+--------+----------+------+---------+------+----+------------+---------------+-----------------+-----------------+-----------------+\n",
            "|id |year|ni_age|len_at_res|credit|premium          |ni_gender|ni_marital_status|n_adults|n_children|tenure|claim_ind|cancel|id_y|year_encoded|house_color_enc|coverage_type_enc|dwelling_type_enc|sales_channel_enc|\n",
            "+---+----+------+----------+------+-----------------+---------+-----------------+--------+----------+------+---------+------+----+------------+---------------+-----------------+-----------------+-----------------+\n",
            "|0  |2016|44.0  |25.0      |2     |950.7386189      |1        |1.0              |3.0     |0.0       |17.0  |0.0      |0     |0   |0.0         |(3,[0],[1.0])  |(2,[1],[1.0])    |(2,[1],[1.0])    |(2,[0],[1.0])    |\n",
            "|1  |2015|31.0  |22.0      |2     |1003.420558      |0        |0.0              |2.0     |0.0       |8.0   |1.0      |0     |1   |1.0         |(3,[],[])      |(2,[],[])        |(2,[],[])        |(2,[0],[1.0])    |\n",
            "|2  |2015|39.0  |17.0      |0     |822.5538692000001|0        |1.0              |3.0     |0.0       |8.0   |0.0      |0     |2   |1.0         |(3,[0],[1.0])  |(2,[0],[1.0])    |(2,[0],[1.0])    |(2,[1],[1.0])    |\n",
            "|3  |2013|37.0  |22.0      |2     |827.0485096      |1        |1.0              |1.0     |2.0       |16.0  |0.0      |0     |3   |3.0         |(3,[0],[1.0])  |(2,[],[])        |(2,[0],[1.0])    |(2,[1],[1.0])    |\n",
            "|4  |2013|39.0  |13.0      |1     |706.7646465      |1        |1.0              |1.0     |0.0       |14.0  |0.0      |0     |4   |3.0         |(3,[2],[1.0])  |(2,[0],[1.0])    |(2,[1],[1.0])    |(2,[0],[1.0])    |\n",
            "+---+----+------+----------+------+-----------------+---------+-----------------+--------+----------+------+---------+------+----+------------+---------------+-----------------+-----------------+-----------------+\n",
            "only showing top 5 rows\n",
            "\n"
          ]
        }
      ],
      "source": [
        "# Here is the whole dataset as-is:\n",
        "X_train.show(5, False)"
      ]
    },
    {
      "cell_type": "markdown",
      "metadata": {
        "id": "PzxhU5wSOaCc"
      },
      "source": [
        "At this point, we were going to redefine y_train and y_test, but we have a great opportunity to see relationships between features and the target variable."
      ]
    },
    {
      "cell_type": "markdown",
      "metadata": {
        "id": "v-LSwQjADwnW"
      },
      "source": [
        "## Data Exploration"
      ]
    },
    {
      "cell_type": "code",
      "execution_count": null,
      "metadata": {
        "colab": {
          "base_uri": "https://localhost:8080/"
        },
        "id": "2_Yfh4NAlULC",
        "outputId": "4518e8a5-a081-46a5-d953-0f329728b4bf"
      },
      "outputs": [
        {
          "output_type": "stream",
          "name": "stdout",
          "text": [
            "root\n",
            " |-- id: long (nullable = false)\n",
            " |-- year: string (nullable = true)\n",
            " |-- ni_age: double (nullable = false)\n",
            " |-- len_at_res: double (nullable = true)\n",
            " |-- credit: integer (nullable = false)\n",
            " |-- premium: double (nullable = true)\n",
            " |-- ni_gender: integer (nullable = false)\n",
            " |-- ni_marital_status: double (nullable = true)\n",
            " |-- n_adults: double (nullable = true)\n",
            " |-- n_children: double (nullable = true)\n",
            " |-- tenure: double (nullable = true)\n",
            " |-- claim_ind: double (nullable = true)\n",
            " |-- cancel: integer (nullable = true)\n",
            " |-- id_y: long (nullable = false)\n",
            " |-- year_encoded: double (nullable = false)\n",
            " |-- house_color_enc: vector (nullable = true)\n",
            " |-- coverage_type_enc: vector (nullable = true)\n",
            " |-- dwelling_type_enc: vector (nullable = true)\n",
            " |-- sales_channel_enc: vector (nullable = true)\n",
            "\n"
          ]
        }
      ],
      "source": [
        "X_train.printSchema()"
      ]
    },
    {
      "cell_type": "code",
      "execution_count": null,
      "metadata": {
        "id": "aBh6-xl9Vn4s"
      },
      "outputs": [],
      "source": [
        "# Turn all features into one vector\n",
        "target_column = ['cancel']\n",
        "\n",
        "FEATURES = ['ni_age',\n",
        "            'len_at_res',\n",
        "            'credit',\n",
        "#           'premium',\n",
        "#           'ni_gender',\n",
        "#           'ni_marital_status',\n",
        "            'n_adults',\n",
        "            'n_children',\n",
        "#           'tenure',\n",
        "            'claim_ind',\n",
        "            'year_encoded',\n",
        "#           'house_color_enc',\n",
        "            'coverage_type_enc',\n",
        "            'dwelling_type_enc',\n",
        "            'sales_channel_enc']\n",
        "\n",
        "FEATURES_analysis = ['ni_age',\n",
        "                    'len_at_res',\n",
        "                    'credit',\n",
        "#                   'premium',\n",
        "#                   'ni_gender',\n",
        "#                   'ni_marital_status',\n",
        "                    'n_adults',\n",
        "                    'n_children',\n",
        "#                   'tenure',\n",
        "                    'claim_ind',\n",
        "                    'year_encoded',\n",
        "#                   'house_color_enc',\n",
        "                    'coverage_type_enc',\n",
        "                    'dwelling_type_enc',\n",
        "                    'sales_channel_enc',\n",
        "                    'cancel']"
      ]
    },
    {
      "cell_type": "markdown",
      "metadata": {
        "id": "sJLf6a2oGNI-"
      },
      "source": [
        "Because house color and gender were considered to be almost not correlated at all to cancellation status in previous iterations, they were not added to the vector.\n",
        "\n",
        "Next, dwelling type was also removed because these were very correlated with age but barely influence cancellation type.\n",
        "\n",
        "Finally, ni_marital_status was removed because it is highly correlated with n_children, so they seem to tell the same information. Also, tenure was removed because it is highly correlated with ni_age."
      ]
    },
    {
      "cell_type": "code",
      "execution_count": null,
      "metadata": {
        "id": "L8XDFXePYIM0"
      },
      "outputs": [],
      "source": [
        "# create vector\n",
        "from pyspark.ml.feature import VectorAssembler\n",
        "\n",
        "# all features vectorized (including cancel, for analysis purposes)\n",
        "vass = VectorAssembler(inputCols = FEATURES_analysis, outputCol = 'features')"
      ]
    },
    {
      "cell_type": "code",
      "execution_count": null,
      "metadata": {
        "id": "U0vRTCNXZNaK"
      },
      "outputs": [],
      "source": [
        "analysis_set = vass.transform(X_train)"
      ]
    },
    {
      "cell_type": "code",
      "execution_count": null,
      "metadata": {
        "colab": {
          "base_uri": "https://localhost:8080/"
        },
        "id": "ymq4IRV4ZUV6",
        "outputId": "57bfabbf-eaf4-4ba6-fe48-fd9631ffb56d"
      },
      "outputs": [
        {
          "output_type": "stream",
          "name": "stdout",
          "text": [
            "+---+----+------+----------+------+-----------------+---------+-----------------+--------+----------+------+---------+------+----+------------+---------------+-----------------+-----------------+-----------------+------------------------------------------------------------+\n",
            "|id |year|ni_age|len_at_res|credit|premium          |ni_gender|ni_marital_status|n_adults|n_children|tenure|claim_ind|cancel|id_y|year_encoded|house_color_enc|coverage_type_enc|dwelling_type_enc|sales_channel_enc|features                                                    |\n",
            "+---+----+------+----------+------+-----------------+---------+-----------------+--------+----------+------+---------+------+----+------------+---------------+-----------------+-----------------+-----------------+------------------------------------------------------------+\n",
            "|0  |2016|44.0  |25.0      |2     |950.7386189      |1        |1.0              |3.0     |0.0       |17.0  |0.0      |0     |0   |0.0         |(3,[0],[1.0])  |(2,[1],[1.0])    |(2,[1],[1.0])    |(2,[0],[1.0])    |(14,[0,1,2,3,8,10,11],[44.0,25.0,2.0,3.0,1.0,1.0,1.0])      |\n",
            "|1  |2015|31.0  |22.0      |2     |1003.420558      |0        |0.0              |2.0     |0.0       |8.0   |1.0      |0     |1   |1.0         |(3,[],[])      |(2,[],[])        |(2,[],[])        |(2,[0],[1.0])    |(14,[0,1,2,3,5,6,11],[31.0,22.0,2.0,2.0,1.0,1.0,1.0])       |\n",
            "|2  |2015|39.0  |17.0      |0     |822.5538692000001|0        |1.0              |3.0     |0.0       |8.0   |0.0      |0     |2   |1.0         |(3,[0],[1.0])  |(2,[0],[1.0])    |(2,[0],[1.0])    |(2,[1],[1.0])    |(14,[0,1,3,6,7,9,12],[39.0,17.0,3.0,1.0,1.0,1.0,1.0])       |\n",
            "|3  |2013|37.0  |22.0      |2     |827.0485096      |1        |1.0              |1.0     |2.0       |16.0  |0.0      |0     |3   |3.0         |(3,[0],[1.0])  |(2,[],[])        |(2,[0],[1.0])    |(2,[1],[1.0])    |(14,[0,1,2,3,4,6,9,12],[37.0,22.0,2.0,1.0,2.0,3.0,1.0,1.0]) |\n",
            "|4  |2013|39.0  |13.0      |1     |706.7646465      |1        |1.0              |1.0     |0.0       |14.0  |0.0      |0     |4   |3.0         |(3,[2],[1.0])  |(2,[0],[1.0])    |(2,[1],[1.0])    |(2,[0],[1.0])    |(14,[0,1,2,3,6,7,10,11],[39.0,13.0,1.0,1.0,3.0,1.0,1.0,1.0])|\n",
            "+---+----+------+----------+------+-----------------+---------+-----------------+--------+----------+------+---------+------+----+------------+---------------+-----------------+-----------------+-----------------+------------------------------------------------------------+\n",
            "only showing top 5 rows\n",
            "\n"
          ]
        }
      ],
      "source": [
        "analysis_set.show(5, False)"
      ]
    },
    {
      "cell_type": "markdown",
      "metadata": {
        "id": "5aJPw_UEPUyt"
      },
      "source": [
        "### Correlation Matrix"
      ]
    },
    {
      "cell_type": "code",
      "execution_count": null,
      "metadata": {
        "id": "oMTcHxCOEDUJ"
      },
      "outputs": [],
      "source": [
        "# import corr\n",
        "from pyspark.ml.stat import Correlation\n",
        "\n",
        "correlation = Correlation.corr(analysis_set, \"features\")"
      ]
    },
    {
      "cell_type": "code",
      "execution_count": null,
      "metadata": {
        "colab": {
          "base_uri": "https://localhost:8080/"
        },
        "id": "BdQXsNJ2a7Gd",
        "outputId": "fca0511a-2a8f-4082-a45e-6caa5945736f"
      },
      "outputs": [
        {
          "output_type": "stream",
          "name": "stdout",
          "text": [
            "[[ 1.00000000e+00 -6.36940326e-04  7.99025851e-02 -6.06246637e-03\n",
            "   9.10012800e-02  3.29129008e-03  5.47711660e-05 -3.09755142e-03\n",
            "  -2.15146074e-03  2.65878670e-01 -1.49920904e-01  6.51575032e-02\n",
            "   2.69097258e-02 -1.05035600e-01]\n",
            " [-6.36940326e-04  1.00000000e+00 -1.36258159e-03 -4.03499551e-03\n",
            "   3.46181265e-03 -4.49601817e-03  4.16778370e-03  9.60732453e-05\n",
            "   2.10183377e-03 -1.73964254e-03 -2.70762151e-03  3.51100130e-04\n",
            "   2.45008619e-03 -3.92371941e-02]\n",
            " [ 7.99025851e-02 -1.36258159e-03  1.00000000e+00  5.31754403e-03\n",
            "   4.72253038e-03  3.03440554e-03  4.38838455e-03 -2.83921720e-03\n",
            "   1.91752241e-03  7.17989546e-03 -3.92993603e-03  1.50359784e-02\n",
            "   4.43823521e-03 -2.43519788e-01]\n",
            " [-6.06246637e-03 -4.03499551e-03  5.31754403e-03  1.00000000e+00\n",
            "  -1.38665174e-03  1.58108648e-03  2.72208381e-03  2.24797959e-03\n",
            "  -3.65395131e-03  8.23546041e-04 -8.99287480e-04  3.00313991e-03\n",
            "  -6.41713193e-04  4.04340019e-02]\n",
            " [ 9.10012800e-02  3.46181265e-03  4.72253038e-03 -1.38665174e-03\n",
            "   1.00000000e+00  3.81994629e-03  5.34535860e-04 -5.39838485e-03\n",
            "   4.16471279e-05  2.11055568e-02 -1.36650630e-02  7.68827002e-03\n",
            "   9.96038085e-04  9.08836561e-02]\n",
            " [ 3.29129008e-03 -4.49601817e-03  3.03440554e-03  1.58108648e-03\n",
            "   3.81994629e-03  1.00000000e+00  2.55317694e-03  3.02363032e-03\n",
            "   3.38033553e-03  4.26401075e-03 -1.75933432e-03 -1.02027656e-03\n",
            "  -5.06002407e-04  6.64366467e-02]\n",
            " [ 5.47711660e-05  4.16778370e-03  4.38838455e-03  2.72208381e-03\n",
            "   5.34535860e-04  2.55317694e-03  1.00000000e+00  1.40607383e-03\n",
            "  -9.57108823e-04 -8.91483143e-03  7.69327368e-03 -8.39216278e-04\n",
            "   9.59772916e-04  1.94263908e-02]\n",
            " [-3.09755142e-03  9.60732453e-05 -2.83921720e-03  2.24797959e-03\n",
            "  -5.39838485e-03  3.02363032e-03  1.40607383e-03  1.00000000e+00\n",
            "  -6.14177108e-01 -1.75008401e-03 -7.92683519e-04 -3.26602578e-03\n",
            "   1.57279182e-03  2.08445871e-02]\n",
            " [-2.15146074e-03  2.10183377e-03  1.91752241e-03 -3.65395131e-03\n",
            "   4.16471279e-05  3.38033553e-03 -9.57108823e-04 -6.14177108e-01\n",
            "   1.00000000e+00  1.43957939e-03  7.84902756e-04  1.39396256e-03\n",
            "  -3.16198323e-03 -2.21441675e-02]\n",
            " [ 2.65878670e-01 -1.73964254e-03  7.17989546e-03  8.23546041e-04\n",
            "   2.11055568e-02  4.26401075e-03 -8.91483143e-03 -1.75008401e-03\n",
            "   1.43957939e-03  1.00000000e+00 -6.35274365e-01  1.16327502e-02\n",
            "   3.00155015e-03 -3.33667636e-02]\n",
            " [-1.49920904e-01 -2.70762151e-03 -3.92993603e-03 -8.99287480e-04\n",
            "  -1.36650630e-02 -1.75933432e-03  7.69327368e-03 -7.92683519e-04\n",
            "   7.84902756e-04 -6.35274365e-01  1.00000000e+00 -2.45871764e-03\n",
            "  -4.86346338e-03  1.44912755e-02]\n",
            " [ 6.51575032e-02  3.51100130e-04  1.50359784e-02  3.00313991e-03\n",
            "   7.68827002e-03 -1.02027656e-03 -8.39216278e-04 -3.26602578e-03\n",
            "   1.39396256e-03  1.16327502e-02 -2.45871764e-03  1.00000000e+00\n",
            "  -8.33685484e-01 -1.84320063e-01]\n",
            " [ 2.69097258e-02  2.45008619e-03  4.43823521e-03 -6.41713193e-04\n",
            "   9.96038085e-04 -5.06002407e-04  9.59772916e-04  1.57279182e-03\n",
            "  -3.16198323e-03  3.00155015e-03 -4.86346338e-03 -8.33685484e-01\n",
            "   1.00000000e+00  1.56634879e-01]\n",
            " [-1.05035600e-01 -3.92371941e-02 -2.43519788e-01  4.04340019e-02\n",
            "   9.08836561e-02  6.64366467e-02  1.94263908e-02  2.08445871e-02\n",
            "  -2.21441675e-02 -3.33667636e-02  1.44912755e-02 -1.84320063e-01\n",
            "   1.56634879e-01  1.00000000e+00]]\n"
          ]
        }
      ],
      "source": [
        "# get the correlation matrix and make it an array\n",
        "# the use of head conveniently grabs the first\n",
        "correlation_array = correlation.head()[0].toArray()\n",
        "\n",
        "# this effectively flattened the matrix into an array\n",
        "print(correlation_array)"
      ]
    },
    {
      "cell_type": "code",
      "execution_count": null,
      "metadata": {
        "id": "CKeSDihebEpl"
      },
      "outputs": [],
      "source": [
        "# reformat for one-hot encoding\n",
        "feature_columns = ['ni_age',\n",
        "                  'len_at_res',\n",
        "                  'credit',\n",
        "                  # 'ni_marital_status',\n",
        "                  'n_adults',\n",
        "                  'n_children',\n",
        "                  # 'tenure',\n",
        "                  'claim_ind',\n",
        "                  'year_encoded',\n",
        "                  'coverage_A',\n",
        "                  'coverage_B',\n",
        "                  'dwelling_house',\n",
        "                  'dwelling_condo',\n",
        "                  'sales_broker',\n",
        "                  'sales_phone',\n",
        "                  'cancel']"
      ]
    },
    {
      "cell_type": "code",
      "execution_count": null,
      "metadata": {
        "id": "Hwcw026Fa_jx"
      },
      "outputs": [],
      "source": [
        "correlation_pd = pd.DataFrame(correlation_array,index=feature_columns, columns=feature_columns,)"
      ]
    },
    {
      "cell_type": "code",
      "execution_count": null,
      "metadata": {
        "colab": {
          "base_uri": "https://localhost:8080/",
          "height": 552
        },
        "id": "Nfr2sXnkmxT1",
        "outputId": "df00a8e8-23ca-4e2b-f7b7-d53b24908455"
      },
      "outputs": [
        {
          "output_type": "execute_result",
          "data": {
            "text/plain": [
              "                  ni_age  len_at_res    credit  n_adults  n_children  \\\n",
              "ni_age          1.000000   -0.000637  0.079903 -0.006062    0.091001   \n",
              "len_at_res     -0.000637    1.000000 -0.001363 -0.004035    0.003462   \n",
              "credit          0.079903   -0.001363  1.000000  0.005318    0.004723   \n",
              "n_adults       -0.006062   -0.004035  0.005318  1.000000   -0.001387   \n",
              "n_children      0.091001    0.003462  0.004723 -0.001387    1.000000   \n",
              "claim_ind       0.003291   -0.004496  0.003034  0.001581    0.003820   \n",
              "year_encoded    0.000055    0.004168  0.004388  0.002722    0.000535   \n",
              "coverage_A     -0.003098    0.000096 -0.002839  0.002248   -0.005398   \n",
              "coverage_B     -0.002151    0.002102  0.001918 -0.003654    0.000042   \n",
              "dwelling_house  0.265879   -0.001740  0.007180  0.000824    0.021106   \n",
              "dwelling_condo -0.149921   -0.002708 -0.003930 -0.000899   -0.013665   \n",
              "sales_broker    0.065158    0.000351  0.015036  0.003003    0.007688   \n",
              "sales_phone     0.026910    0.002450  0.004438 -0.000642    0.000996   \n",
              "cancel         -0.105036   -0.039237 -0.243520  0.040434    0.090884   \n",
              "\n",
              "                claim_ind  year_encoded  coverage_A  coverage_B  \\\n",
              "ni_age           0.003291      0.000055   -0.003098   -0.002151   \n",
              "len_at_res      -0.004496      0.004168    0.000096    0.002102   \n",
              "credit           0.003034      0.004388   -0.002839    0.001918   \n",
              "n_adults         0.001581      0.002722    0.002248   -0.003654   \n",
              "n_children       0.003820      0.000535   -0.005398    0.000042   \n",
              "claim_ind        1.000000      0.002553    0.003024    0.003380   \n",
              "year_encoded     0.002553      1.000000    0.001406   -0.000957   \n",
              "coverage_A       0.003024      0.001406    1.000000   -0.614177   \n",
              "coverage_B       0.003380     -0.000957   -0.614177    1.000000   \n",
              "dwelling_house   0.004264     -0.008915   -0.001750    0.001440   \n",
              "dwelling_condo  -0.001759      0.007693   -0.000793    0.000785   \n",
              "sales_broker    -0.001020     -0.000839   -0.003266    0.001394   \n",
              "sales_phone     -0.000506      0.000960    0.001573   -0.003162   \n",
              "cancel           0.066437      0.019426    0.020845   -0.022144   \n",
              "\n",
              "                dwelling_house  dwelling_condo  sales_broker  sales_phone  \\\n",
              "ni_age                0.265879       -0.149921      0.065158     0.026910   \n",
              "len_at_res           -0.001740       -0.002708      0.000351     0.002450   \n",
              "credit                0.007180       -0.003930      0.015036     0.004438   \n",
              "n_adults              0.000824       -0.000899      0.003003    -0.000642   \n",
              "n_children            0.021106       -0.013665      0.007688     0.000996   \n",
              "claim_ind             0.004264       -0.001759     -0.001020    -0.000506   \n",
              "year_encoded         -0.008915        0.007693     -0.000839     0.000960   \n",
              "coverage_A           -0.001750       -0.000793     -0.003266     0.001573   \n",
              "coverage_B            0.001440        0.000785      0.001394    -0.003162   \n",
              "dwelling_house        1.000000       -0.635274      0.011633     0.003002   \n",
              "dwelling_condo       -0.635274        1.000000     -0.002459    -0.004863   \n",
              "sales_broker          0.011633       -0.002459      1.000000    -0.833685   \n",
              "sales_phone           0.003002       -0.004863     -0.833685     1.000000   \n",
              "cancel               -0.033367        0.014491     -0.184320     0.156635   \n",
              "\n",
              "                  cancel  \n",
              "ni_age         -0.105036  \n",
              "len_at_res     -0.039237  \n",
              "credit         -0.243520  \n",
              "n_adults        0.040434  \n",
              "n_children      0.090884  \n",
              "claim_ind       0.066437  \n",
              "year_encoded    0.019426  \n",
              "coverage_A      0.020845  \n",
              "coverage_B     -0.022144  \n",
              "dwelling_house -0.033367  \n",
              "dwelling_condo  0.014491  \n",
              "sales_broker   -0.184320  \n",
              "sales_phone     0.156635  \n",
              "cancel          1.000000  "
            ],
            "text/html": [
              "\n",
              "  <div id=\"df-1f9b8a33-318e-4b14-8c64-a180b2bd664c\">\n",
              "    <div class=\"colab-df-container\">\n",
              "      <div>\n",
              "<style scoped>\n",
              "    .dataframe tbody tr th:only-of-type {\n",
              "        vertical-align: middle;\n",
              "    }\n",
              "\n",
              "    .dataframe tbody tr th {\n",
              "        vertical-align: top;\n",
              "    }\n",
              "\n",
              "    .dataframe thead th {\n",
              "        text-align: right;\n",
              "    }\n",
              "</style>\n",
              "<table border=\"1\" class=\"dataframe\">\n",
              "  <thead>\n",
              "    <tr style=\"text-align: right;\">\n",
              "      <th></th>\n",
              "      <th>ni_age</th>\n",
              "      <th>len_at_res</th>\n",
              "      <th>credit</th>\n",
              "      <th>n_adults</th>\n",
              "      <th>n_children</th>\n",
              "      <th>claim_ind</th>\n",
              "      <th>year_encoded</th>\n",
              "      <th>coverage_A</th>\n",
              "      <th>coverage_B</th>\n",
              "      <th>dwelling_house</th>\n",
              "      <th>dwelling_condo</th>\n",
              "      <th>sales_broker</th>\n",
              "      <th>sales_phone</th>\n",
              "      <th>cancel</th>\n",
              "    </tr>\n",
              "  </thead>\n",
              "  <tbody>\n",
              "    <tr>\n",
              "      <th>ni_age</th>\n",
              "      <td>1.000000</td>\n",
              "      <td>-0.000637</td>\n",
              "      <td>0.079903</td>\n",
              "      <td>-0.006062</td>\n",
              "      <td>0.091001</td>\n",
              "      <td>0.003291</td>\n",
              "      <td>0.000055</td>\n",
              "      <td>-0.003098</td>\n",
              "      <td>-0.002151</td>\n",
              "      <td>0.265879</td>\n",
              "      <td>-0.149921</td>\n",
              "      <td>0.065158</td>\n",
              "      <td>0.026910</td>\n",
              "      <td>-0.105036</td>\n",
              "    </tr>\n",
              "    <tr>\n",
              "      <th>len_at_res</th>\n",
              "      <td>-0.000637</td>\n",
              "      <td>1.000000</td>\n",
              "      <td>-0.001363</td>\n",
              "      <td>-0.004035</td>\n",
              "      <td>0.003462</td>\n",
              "      <td>-0.004496</td>\n",
              "      <td>0.004168</td>\n",
              "      <td>0.000096</td>\n",
              "      <td>0.002102</td>\n",
              "      <td>-0.001740</td>\n",
              "      <td>-0.002708</td>\n",
              "      <td>0.000351</td>\n",
              "      <td>0.002450</td>\n",
              "      <td>-0.039237</td>\n",
              "    </tr>\n",
              "    <tr>\n",
              "      <th>credit</th>\n",
              "      <td>0.079903</td>\n",
              "      <td>-0.001363</td>\n",
              "      <td>1.000000</td>\n",
              "      <td>0.005318</td>\n",
              "      <td>0.004723</td>\n",
              "      <td>0.003034</td>\n",
              "      <td>0.004388</td>\n",
              "      <td>-0.002839</td>\n",
              "      <td>0.001918</td>\n",
              "      <td>0.007180</td>\n",
              "      <td>-0.003930</td>\n",
              "      <td>0.015036</td>\n",
              "      <td>0.004438</td>\n",
              "      <td>-0.243520</td>\n",
              "    </tr>\n",
              "    <tr>\n",
              "      <th>n_adults</th>\n",
              "      <td>-0.006062</td>\n",
              "      <td>-0.004035</td>\n",
              "      <td>0.005318</td>\n",
              "      <td>1.000000</td>\n",
              "      <td>-0.001387</td>\n",
              "      <td>0.001581</td>\n",
              "      <td>0.002722</td>\n",
              "      <td>0.002248</td>\n",
              "      <td>-0.003654</td>\n",
              "      <td>0.000824</td>\n",
              "      <td>-0.000899</td>\n",
              "      <td>0.003003</td>\n",
              "      <td>-0.000642</td>\n",
              "      <td>0.040434</td>\n",
              "    </tr>\n",
              "    <tr>\n",
              "      <th>n_children</th>\n",
              "      <td>0.091001</td>\n",
              "      <td>0.003462</td>\n",
              "      <td>0.004723</td>\n",
              "      <td>-0.001387</td>\n",
              "      <td>1.000000</td>\n",
              "      <td>0.003820</td>\n",
              "      <td>0.000535</td>\n",
              "      <td>-0.005398</td>\n",
              "      <td>0.000042</td>\n",
              "      <td>0.021106</td>\n",
              "      <td>-0.013665</td>\n",
              "      <td>0.007688</td>\n",
              "      <td>0.000996</td>\n",
              "      <td>0.090884</td>\n",
              "    </tr>\n",
              "    <tr>\n",
              "      <th>claim_ind</th>\n",
              "      <td>0.003291</td>\n",
              "      <td>-0.004496</td>\n",
              "      <td>0.003034</td>\n",
              "      <td>0.001581</td>\n",
              "      <td>0.003820</td>\n",
              "      <td>1.000000</td>\n",
              "      <td>0.002553</td>\n",
              "      <td>0.003024</td>\n",
              "      <td>0.003380</td>\n",
              "      <td>0.004264</td>\n",
              "      <td>-0.001759</td>\n",
              "      <td>-0.001020</td>\n",
              "      <td>-0.000506</td>\n",
              "      <td>0.066437</td>\n",
              "    </tr>\n",
              "    <tr>\n",
              "      <th>year_encoded</th>\n",
              "      <td>0.000055</td>\n",
              "      <td>0.004168</td>\n",
              "      <td>0.004388</td>\n",
              "      <td>0.002722</td>\n",
              "      <td>0.000535</td>\n",
              "      <td>0.002553</td>\n",
              "      <td>1.000000</td>\n",
              "      <td>0.001406</td>\n",
              "      <td>-0.000957</td>\n",
              "      <td>-0.008915</td>\n",
              "      <td>0.007693</td>\n",
              "      <td>-0.000839</td>\n",
              "      <td>0.000960</td>\n",
              "      <td>0.019426</td>\n",
              "    </tr>\n",
              "    <tr>\n",
              "      <th>coverage_A</th>\n",
              "      <td>-0.003098</td>\n",
              "      <td>0.000096</td>\n",
              "      <td>-0.002839</td>\n",
              "      <td>0.002248</td>\n",
              "      <td>-0.005398</td>\n",
              "      <td>0.003024</td>\n",
              "      <td>0.001406</td>\n",
              "      <td>1.000000</td>\n",
              "      <td>-0.614177</td>\n",
              "      <td>-0.001750</td>\n",
              "      <td>-0.000793</td>\n",
              "      <td>-0.003266</td>\n",
              "      <td>0.001573</td>\n",
              "      <td>0.020845</td>\n",
              "    </tr>\n",
              "    <tr>\n",
              "      <th>coverage_B</th>\n",
              "      <td>-0.002151</td>\n",
              "      <td>0.002102</td>\n",
              "      <td>0.001918</td>\n",
              "      <td>-0.003654</td>\n",
              "      <td>0.000042</td>\n",
              "      <td>0.003380</td>\n",
              "      <td>-0.000957</td>\n",
              "      <td>-0.614177</td>\n",
              "      <td>1.000000</td>\n",
              "      <td>0.001440</td>\n",
              "      <td>0.000785</td>\n",
              "      <td>0.001394</td>\n",
              "      <td>-0.003162</td>\n",
              "      <td>-0.022144</td>\n",
              "    </tr>\n",
              "    <tr>\n",
              "      <th>dwelling_house</th>\n",
              "      <td>0.265879</td>\n",
              "      <td>-0.001740</td>\n",
              "      <td>0.007180</td>\n",
              "      <td>0.000824</td>\n",
              "      <td>0.021106</td>\n",
              "      <td>0.004264</td>\n",
              "      <td>-0.008915</td>\n",
              "      <td>-0.001750</td>\n",
              "      <td>0.001440</td>\n",
              "      <td>1.000000</td>\n",
              "      <td>-0.635274</td>\n",
              "      <td>0.011633</td>\n",
              "      <td>0.003002</td>\n",
              "      <td>-0.033367</td>\n",
              "    </tr>\n",
              "    <tr>\n",
              "      <th>dwelling_condo</th>\n",
              "      <td>-0.149921</td>\n",
              "      <td>-0.002708</td>\n",
              "      <td>-0.003930</td>\n",
              "      <td>-0.000899</td>\n",
              "      <td>-0.013665</td>\n",
              "      <td>-0.001759</td>\n",
              "      <td>0.007693</td>\n",
              "      <td>-0.000793</td>\n",
              "      <td>0.000785</td>\n",
              "      <td>-0.635274</td>\n",
              "      <td>1.000000</td>\n",
              "      <td>-0.002459</td>\n",
              "      <td>-0.004863</td>\n",
              "      <td>0.014491</td>\n",
              "    </tr>\n",
              "    <tr>\n",
              "      <th>sales_broker</th>\n",
              "      <td>0.065158</td>\n",
              "      <td>0.000351</td>\n",
              "      <td>0.015036</td>\n",
              "      <td>0.003003</td>\n",
              "      <td>0.007688</td>\n",
              "      <td>-0.001020</td>\n",
              "      <td>-0.000839</td>\n",
              "      <td>-0.003266</td>\n",
              "      <td>0.001394</td>\n",
              "      <td>0.011633</td>\n",
              "      <td>-0.002459</td>\n",
              "      <td>1.000000</td>\n",
              "      <td>-0.833685</td>\n",
              "      <td>-0.184320</td>\n",
              "    </tr>\n",
              "    <tr>\n",
              "      <th>sales_phone</th>\n",
              "      <td>0.026910</td>\n",
              "      <td>0.002450</td>\n",
              "      <td>0.004438</td>\n",
              "      <td>-0.000642</td>\n",
              "      <td>0.000996</td>\n",
              "      <td>-0.000506</td>\n",
              "      <td>0.000960</td>\n",
              "      <td>0.001573</td>\n",
              "      <td>-0.003162</td>\n",
              "      <td>0.003002</td>\n",
              "      <td>-0.004863</td>\n",
              "      <td>-0.833685</td>\n",
              "      <td>1.000000</td>\n",
              "      <td>0.156635</td>\n",
              "    </tr>\n",
              "    <tr>\n",
              "      <th>cancel</th>\n",
              "      <td>-0.105036</td>\n",
              "      <td>-0.039237</td>\n",
              "      <td>-0.243520</td>\n",
              "      <td>0.040434</td>\n",
              "      <td>0.090884</td>\n",
              "      <td>0.066437</td>\n",
              "      <td>0.019426</td>\n",
              "      <td>0.020845</td>\n",
              "      <td>-0.022144</td>\n",
              "      <td>-0.033367</td>\n",
              "      <td>0.014491</td>\n",
              "      <td>-0.184320</td>\n",
              "      <td>0.156635</td>\n",
              "      <td>1.000000</td>\n",
              "    </tr>\n",
              "  </tbody>\n",
              "</table>\n",
              "</div>\n",
              "      <button class=\"colab-df-convert\" onclick=\"convertToInteractive('df-1f9b8a33-318e-4b14-8c64-a180b2bd664c')\"\n",
              "              title=\"Convert this dataframe to an interactive table.\"\n",
              "              style=\"display:none;\">\n",
              "        \n",
              "  <svg xmlns=\"http://www.w3.org/2000/svg\" height=\"24px\"viewBox=\"0 0 24 24\"\n",
              "       width=\"24px\">\n",
              "    <path d=\"M0 0h24v24H0V0z\" fill=\"none\"/>\n",
              "    <path d=\"M18.56 5.44l.94 2.06.94-2.06 2.06-.94-2.06-.94-.94-2.06-.94 2.06-2.06.94zm-11 1L8.5 8.5l.94-2.06 2.06-.94-2.06-.94L8.5 2.5l-.94 2.06-2.06.94zm10 10l.94 2.06.94-2.06 2.06-.94-2.06-.94-.94-2.06-.94 2.06-2.06.94z\"/><path d=\"M17.41 7.96l-1.37-1.37c-.4-.4-.92-.59-1.43-.59-.52 0-1.04.2-1.43.59L10.3 9.45l-7.72 7.72c-.78.78-.78 2.05 0 2.83L4 21.41c.39.39.9.59 1.41.59.51 0 1.02-.2 1.41-.59l7.78-7.78 2.81-2.81c.8-.78.8-2.07 0-2.86zM5.41 20L4 18.59l7.72-7.72 1.47 1.35L5.41 20z\"/>\n",
              "  </svg>\n",
              "      </button>\n",
              "      \n",
              "  <style>\n",
              "    .colab-df-container {\n",
              "      display:flex;\n",
              "      flex-wrap:wrap;\n",
              "      gap: 12px;\n",
              "    }\n",
              "\n",
              "    .colab-df-convert {\n",
              "      background-color: #E8F0FE;\n",
              "      border: none;\n",
              "      border-radius: 50%;\n",
              "      cursor: pointer;\n",
              "      display: none;\n",
              "      fill: #1967D2;\n",
              "      height: 32px;\n",
              "      padding: 0 0 0 0;\n",
              "      width: 32px;\n",
              "    }\n",
              "\n",
              "    .colab-df-convert:hover {\n",
              "      background-color: #E2EBFA;\n",
              "      box-shadow: 0px 1px 2px rgba(60, 64, 67, 0.3), 0px 1px 3px 1px rgba(60, 64, 67, 0.15);\n",
              "      fill: #174EA6;\n",
              "    }\n",
              "\n",
              "    [theme=dark] .colab-df-convert {\n",
              "      background-color: #3B4455;\n",
              "      fill: #D2E3FC;\n",
              "    }\n",
              "\n",
              "    [theme=dark] .colab-df-convert:hover {\n",
              "      background-color: #434B5C;\n",
              "      box-shadow: 0px 1px 3px 1px rgba(0, 0, 0, 0.15);\n",
              "      filter: drop-shadow(0px 1px 2px rgba(0, 0, 0, 0.3));\n",
              "      fill: #FFFFFF;\n",
              "    }\n",
              "  </style>\n",
              "\n",
              "      <script>\n",
              "        const buttonEl =\n",
              "          document.querySelector('#df-1f9b8a33-318e-4b14-8c64-a180b2bd664c button.colab-df-convert');\n",
              "        buttonEl.style.display =\n",
              "          google.colab.kernel.accessAllowed ? 'block' : 'none';\n",
              "\n",
              "        async function convertToInteractive(key) {\n",
              "          const element = document.querySelector('#df-1f9b8a33-318e-4b14-8c64-a180b2bd664c');\n",
              "          const dataTable =\n",
              "            await google.colab.kernel.invokeFunction('convertToInteractive',\n",
              "                                                     [key], {});\n",
              "          if (!dataTable) return;\n",
              "\n",
              "          const docLinkHtml = 'Like what you see? Visit the ' +\n",
              "            '<a target=\"_blank\" href=https://colab.research.google.com/notebooks/data_table.ipynb>data table notebook</a>'\n",
              "            + ' to learn more about interactive tables.';\n",
              "          element.innerHTML = '';\n",
              "          dataTable['output_type'] = 'display_data';\n",
              "          await google.colab.output.renderOutput(dataTable, element);\n",
              "          const docLink = document.createElement('div');\n",
              "          docLink.innerHTML = docLinkHtml;\n",
              "          element.appendChild(docLink);\n",
              "        }\n",
              "      </script>\n",
              "    </div>\n",
              "  </div>\n",
              "  "
            ]
          },
          "metadata": {},
          "execution_count": 85
        }
      ],
      "source": [
        "correlation_pd"
      ]
    },
    {
      "cell_type": "markdown",
      "metadata": {
        "id": "R6xsKDU_m3or"
      },
      "source": [
        "This is not a great way to see these, let us visualize this!"
      ]
    },
    {
      "cell_type": "code",
      "execution_count": null,
      "metadata": {
        "colab": {
          "base_uri": "https://localhost:8080/",
          "height": 775
        },
        "id": "ctxBSaeEm-L9",
        "outputId": "4b0722d3-134d-403e-e50d-130120df495c"
      },
      "outputs": [
        {
          "output_type": "display_data",
          "data": {
            "text/plain": [
              "<Figure size 1000x800 with 2 Axes>"
            ],
            "image/png": "[encoded data removed]"
          },
          "metadata": {}
        }
      ],
      "source": [
        "import matplotlib.pyplot as plt\n",
        "\n",
        "f, ax = plt.subplots(figsize=(10, 8))\n",
        "corr = correlation_pd # use pd dataframe for column names\n",
        "sns.heatmap(correlation_pd,\n",
        "    cmap=sns.diverging_palette(220, 10, as_cmap=True),\n",
        "    vmin=-1.0, vmax=1.0,\n",
        "    square=True, ax=ax)\n",
        "plt.show()"
      ]
    },
    {
      "cell_type": "markdown",
      "metadata": {
        "id": "4Bco_1GJnS7x"
      },
      "source": [
        "As seen above, there are a few interesting relationships:\n",
        "* Individuals are more willing to cancel when handling the policy with a sales broker, but less willing to cancel with a sales phone call.\n",
        "* Individuals with higher credit scores are slightly more willing to cancel.\n",
        "* Individuals that are older have dwell in condos more than houses. In addition, the younger the individual is, the lower tenure in their dwelling (makes sense). Finally, younger individuals have lower credit scores.\n",
        "* Individuals with condos may have higher tenures.\n",
        "* Policy claims have less lieklihood of cancellation\n",
        "* Gender does not impact any of these features much.\n",
        "* Older individuals may cancel policies moreso than younger individuals.\n",
        "* House color and gender have a very low influence on cancellation.\n",
        "\n",
        "All in all, it is good to see that overall, many of these features don't impact eachother much because it can help with our model's performance."
      ]
    },
    {
      "cell_type": "markdown",
      "metadata": {
        "id": "p7vZBG2nsIUc"
      },
      "source": [
        "### Cancellation per Broker Type"
      ]
    },
    {
      "cell_type": "markdown",
      "metadata": {
        "id": "BxxcSnPp2dpr"
      },
      "source": [
        "First we should convert the vector to a dataframe:"
      ]
    },
    {
      "cell_type": "code",
      "execution_count": null,
      "metadata": {
        "id": "8ngR3WPGxx_Q"
      },
      "outputs": [],
      "source": [
        "# converts vector to a dataframe\n",
        "vector_df = analysis_set.rdd.map(lambda x:[float(y) for y in x['features']]).toDF(feature_columns)"
      ]
    },
    {
      "cell_type": "code",
      "execution_count": null,
      "metadata": {
        "colab": {
          "base_uri": "https://localhost:8080/"
        },
        "id": "hqhwCXEguG8J",
        "outputId": "fa779ad6-b936-4913-dd8d-922defe5f59c"
      },
      "outputs": [
        {
          "output_type": "stream",
          "name": "stdout",
          "text": [
            "+------+----------+------+--------+----------+---------+------------+----------+----------+--------------+--------------+------------+-----------+------+\n",
            "|ni_age|len_at_res|credit|n_adults|n_children|claim_ind|year_encoded|coverage_A|coverage_B|dwelling_house|dwelling_condo|sales_broker|sales_phone|cancel|\n",
            "+------+----------+------+--------+----------+---------+------------+----------+----------+--------------+--------------+------------+-----------+------+\n",
            "|44.0  |25.0      |2.0   |3.0     |0.0       |0.0      |0.0         |0.0       |1.0       |0.0           |1.0           |1.0         |0.0        |0.0   |\n",
            "|31.0  |22.0      |2.0   |2.0     |0.0       |1.0      |1.0         |0.0       |0.0       |0.0           |0.0           |1.0         |0.0        |0.0   |\n",
            "|39.0  |17.0      |0.0   |3.0     |0.0       |0.0      |1.0         |1.0       |0.0       |1.0           |0.0           |0.0         |1.0        |0.0   |\n",
            "|37.0  |22.0      |2.0   |1.0     |2.0       |0.0      |3.0         |0.0       |0.0       |1.0           |0.0           |0.0         |1.0        |0.0   |\n",
            "|39.0  |13.0      |1.0   |1.0     |0.0       |0.0      |3.0         |1.0       |0.0       |0.0           |1.0           |1.0         |0.0        |0.0   |\n",
            "+------+----------+------+--------+----------+---------+------------+----------+----------+--------------+--------------+------------+-----------+------+\n",
            "only showing top 5 rows\n",
            "\n"
          ]
        }
      ],
      "source": [
        "vector_df.show(5, False)"
      ]
    },
    {
      "cell_type": "markdown",
      "metadata": {
        "id": "6Rhn_5uw2hzK"
      },
      "source": [
        "Now we can query:"
      ]
    },
    {
      "cell_type": "code",
      "execution_count": null,
      "metadata": {
        "id": "GNTH08qwsH20"
      },
      "outputs": [],
      "source": [
        "query = vector_df.select('sales_broker', 'sales_phone', 'cancel')\n",
        "query.createOrReplaceTempView(\"data\")"
      ]
    },
    {
      "cell_type": "code",
      "execution_count": null,
      "metadata": {
        "colab": {
          "base_uri": "https://localhost:8080/",
          "height": 143
        },
        "id": "2_G9Qxo_3WiI",
        "outputId": "f1c6b59b-2c87-4b37-9ea3-2c57c21d2170"
      },
      "outputs": [
        {
          "output_type": "execute_result",
          "data": {
            "text/plain": [
              "   cancel  Sales_Broker  Phone_Sale  Online\n",
              "0     0.0       53951.0     23768.0    6171\n",
              "1     1.0        3419.0      4100.0     991\n",
              "2     2.0       11340.0     11642.0    2908"
            ],
            "text/html": [
              "\n",
              "  <div id=\"df-63e5e88e-904c-4786-9a93-51f1997e7b8d\">\n",
              "    <div class=\"colab-df-container\">\n",
              "      <div>\n",
              "<style scoped>\n",
              "    .dataframe tbody tr th:only-of-type {\n",
              "        vertical-align: middle;\n",
              "    }\n",
              "\n",
              "    .dataframe tbody tr th {\n",
              "        vertical-align: top;\n",
              "    }\n",
              "\n",
              "    .dataframe thead th {\n",
              "        text-align: right;\n",
              "    }\n",
              "</style>\n",
              "<table border=\"1\" class=\"dataframe\">\n",
              "  <thead>\n",
              "    <tr style=\"text-align: right;\">\n",
              "      <th></th>\n",
              "      <th>cancel</th>\n",
              "      <th>Sales_Broker</th>\n",
              "      <th>Phone_Sale</th>\n",
              "      <th>Online</th>\n",
              "    </tr>\n",
              "  </thead>\n",
              "  <tbody>\n",
              "    <tr>\n",
              "      <th>0</th>\n",
              "      <td>0.0</td>\n",
              "      <td>53951.0</td>\n",
              "      <td>23768.0</td>\n",
              "      <td>6171</td>\n",
              "    </tr>\n",
              "    <tr>\n",
              "      <th>1</th>\n",
              "      <td>1.0</td>\n",
              "      <td>3419.0</td>\n",
              "      <td>4100.0</td>\n",
              "      <td>991</td>\n",
              "    </tr>\n",
              "    <tr>\n",
              "      <th>2</th>\n",
              "      <td>2.0</td>\n",
              "      <td>11340.0</td>\n",
              "      <td>11642.0</td>\n",
              "      <td>2908</td>\n",
              "    </tr>\n",
              "  </tbody>\n",
              "</table>\n",
              "</div>\n",
              "      <button class=\"colab-df-convert\" onclick=\"convertToInteractive('df-63e5e88e-904c-4786-9a93-51f1997e7b8d')\"\n",
              "              title=\"Convert this dataframe to an interactive table.\"\n",
              "              style=\"display:none;\">\n",
              "        \n",
              "  <svg xmlns=\"http://www.w3.org/2000/svg\" height=\"24px\"viewBox=\"0 0 24 24\"\n",
              "       width=\"24px\">\n",
              "    <path d=\"M0 0h24v24H0V0z\" fill=\"none\"/>\n",
              "    <path d=\"M18.56 5.44l.94 2.06.94-2.06 2.06-.94-2.06-.94-.94-2.06-.94 2.06-2.06.94zm-11 1L8.5 8.5l.94-2.06 2.06-.94-2.06-.94L8.5 2.5l-.94 2.06-2.06.94zm10 10l.94 2.06.94-2.06 2.06-.94-2.06-.94-.94-2.06-.94 2.06-2.06.94z\"/><path d=\"M17.41 7.96l-1.37-1.37c-.4-.4-.92-.59-1.43-.59-.52 0-1.04.2-1.43.59L10.3 9.45l-7.72 7.72c-.78.78-.78 2.05 0 2.83L4 21.41c.39.39.9.59 1.41.59.51 0 1.02-.2 1.41-.59l7.78-7.78 2.81-2.81c.8-.78.8-2.07 0-2.86zM5.41 20L4 18.59l7.72-7.72 1.47 1.35L5.41 20z\"/>\n",
              "  </svg>\n",
              "      </button>\n",
              "      \n",
              "  <style>\n",
              "    .colab-df-container {\n",
              "      display:flex;\n",
              "      flex-wrap:wrap;\n",
              "      gap: 12px;\n",
              "    }\n",
              "\n",
              "    .colab-df-convert {\n",
              "      background-color: #E8F0FE;\n",
              "      border: none;\n",
              "      border-radius: 50%;\n",
              "      cursor: pointer;\n",
              "      display: none;\n",
              "      fill: #1967D2;\n",
              "      height: 32px;\n",
              "      padding: 0 0 0 0;\n",
              "      width: 32px;\n",
              "    }\n",
              "\n",
              "    .colab-df-convert:hover {\n",
              "      background-color: #E2EBFA;\n",
              "      box-shadow: 0px 1px 2px rgba(60, 64, 67, 0.3), 0px 1px 3px 1px rgba(60, 64, 67, 0.15);\n",
              "      fill: #174EA6;\n",
              "    }\n",
              "\n",
              "    [theme=dark] .colab-df-convert {\n",
              "      background-color: #3B4455;\n",
              "      fill: #D2E3FC;\n",
              "    }\n",
              "\n",
              "    [theme=dark] .colab-df-convert:hover {\n",
              "      background-color: #434B5C;\n",
              "      box-shadow: 0px 1px 3px 1px rgba(0, 0, 0, 0.15);\n",
              "      filter: drop-shadow(0px 1px 2px rgba(0, 0, 0, 0.3));\n",
              "      fill: #FFFFFF;\n",
              "    }\n",
              "  </style>\n",
              "\n",
              "      <script>\n",
              "        const buttonEl =\n",
              "          document.querySelector('#df-63e5e88e-904c-4786-9a93-51f1997e7b8d button.colab-df-convert');\n",
              "        buttonEl.style.display =\n",
              "          google.colab.kernel.accessAllowed ? 'block' : 'none';\n",
              "\n",
              "        async function convertToInteractive(key) {\n",
              "          const element = document.querySelector('#df-63e5e88e-904c-4786-9a93-51f1997e7b8d');\n",
              "          const dataTable =\n",
              "            await google.colab.kernel.invokeFunction('convertToInteractive',\n",
              "                                                     [key], {});\n",
              "          if (!dataTable) return;\n",
              "\n",
              "          const docLinkHtml = 'Like what you see? Visit the ' +\n",
              "            '<a target=\"_blank\" href=https://colab.research.google.com/notebooks/data_table.ipynb>data table notebook</a>'\n",
              "            + ' to learn more about interactive tables.';\n",
              "          element.innerHTML = '';\n",
              "          dataTable['output_type'] = 'display_data';\n",
              "          await google.colab.output.renderOutput(dataTable, element);\n",
              "          const docLink = document.createElement('div');\n",
              "          docLink.innerHTML = docLinkHtml;\n",
              "          element.appendChild(docLink);\n",
              "        }\n",
              "      </script>\n",
              "    </div>\n",
              "  </div>\n",
              "  "
            ]
          },
          "metadata": {},
          "execution_count": 90
        }
      ],
      "source": [
        "df = spark.sql('SELECT cancel, SUM(sales_broker) AS Sales_Broker, SUM(sales_phone) AS Phone_Sale, \\\n",
        "                SUM(CASE WHEN sales_broker == 0 AND sales_phone == 0 \\\n",
        "                      THEN 1 \\\n",
        "                      END) AS Online \\\n",
        "                FROM data \\\n",
        "                GROUP BY cancel').toPandas()\n",
        "df"
      ]
    },
    {
      "cell_type": "markdown",
      "metadata": {
        "id": "7n-eWFt155jh"
      },
      "source": [
        "Above we can see a table that represents how sales brokers are the best as securing policies, especially seeing how sales brokers have the same amount of cancellations as sales phone calls, but sales brokers have the highest amount of policies."
      ]
    },
    {
      "cell_type": "code",
      "execution_count": null,
      "metadata": {
        "colab": {
          "base_uri": "https://localhost:8080/",
          "height": 472
        },
        "id": "-Sk3m7jZ7UHA",
        "outputId": "8938201d-6df9-4d95-9894-c29ca127135c"
      },
      "outputs": [
        {
          "output_type": "display_data",
          "data": {
            "text/plain": [
              "<Figure size 640x480 with 1 Axes>"
            ],
            "image/png": "[encoded data removed]"
          },
          "metadata": {}
        }
      ],
      "source": [
        "# From raw value to percentage\n",
        "totals = [i+j+k for i,j,k in zip(df['Sales_Broker'], df['Phone_Sale'], df['Online'])]\n",
        "sales_broker = [i / j * 100 for i,j in zip(df['Sales_Broker'], totals)]\n",
        "phone_sale = [i / j * 100 for i,j in zip(df['Phone_Sale'], totals)]\n",
        "online = [i / j * 100 for i,j in zip(df['Online'], totals)]\n",
        "\n",
        "# plot\n",
        "barWidth = 0.85\n",
        "names = ('No Cancel', 'Maybe Cancel', 'Cancel')\n",
        "# Create sales broker\n",
        "plt.bar(df['cancel'], sales_broker, color='#b5ffb9', edgecolor='white', width=barWidth, label = 'Sales Broker')\n",
        "# Create phone sale\n",
        "plt.bar(df['cancel'], phone_sale, bottom=sales_broker, color='#f9bc86', edgecolor='white', width=barWidth, label = 'Phone Sale')\n",
        "# Create online\n",
        "plt.bar(df['cancel'], online, bottom=[i+j for i,j in zip(sales_broker, phone_sale)], color='#a3acff', edgecolor='white', width=barWidth, label = 'Online Sale')\n",
        "\n",
        "# Custom x axis\n",
        "plt.xticks(df['cancel'], names)\n",
        "plt.xlabel(\"Cancellation Status\")\n",
        "\n",
        "# Add a legend, title\n",
        "plt.legend(loc='upper right', bbox_to_anchor=(1,1), ncol=1)\n",
        "plt.title(\"Portion of Sales Channel by Cancellation Status\")\n",
        "\n",
        "# Show graphic\n",
        "plt.show()"
      ]
    },
    {
      "cell_type": "markdown",
      "metadata": {
        "id": "4GO5OudFAjmw"
      },
      "source": [
        "As seen above, the sales channel that leads to the highest proportion of secured policies is the Sales Broker. Although it is easy to see that it takes up the majority of all policies through the previous table, it holds up well. This easily contrasts with the proportion of cancellation statuses for Phone Sales, which have difficulty securing policies but seem to lead to cancellations or the possibility thereof the most. Finally, policies purchased through online sales channels seem to share a similar fate to that of policies sold by phone."
      ]
    },
    {
      "cell_type": "markdown",
      "metadata": {
        "id": "J9cU9HFfsgaV"
      },
      "source": [
        "### Cancellation per Credit Score"
      ]
    },
    {
      "cell_type": "code",
      "execution_count": null,
      "metadata": {
        "id": "eQyCxeRXs48W"
      },
      "outputs": [],
      "source": [
        "query = vector_df.select('credit', 'cancel')\n",
        "query.createOrReplaceTempView(\"data\")"
      ]
    },
    {
      "cell_type": "code",
      "execution_count": null,
      "metadata": {
        "colab": {
          "base_uri": "https://localhost:8080/",
          "height": 143
        },
        "id": "tUidm8H3DLkm",
        "outputId": "51880bb7-d3cc-4a98-db31-cd7d5b198719"
      },
      "outputs": [
        {
          "output_type": "execute_result",
          "data": {
            "text/plain": [
              "   cancel  High_Credit  Medium_Credit  Low_Credit\n",
              "0     0.0        57898          16623        9369\n",
              "1     1.0         3508           2837        2165\n",
              "2     2.0        11745           6414        7731"
            ],
            "text/html": [
              "\n",
              "  <div id=\"df-5294e277-8d02-4d28-b1d7-0a517663d5ad\">\n",
              "    <div class=\"colab-df-container\">\n",
              "      <div>\n",
              "<style scoped>\n",
              "    .dataframe tbody tr th:only-of-type {\n",
              "        vertical-align: middle;\n",
              "    }\n",
              "\n",
              "    .dataframe tbody tr th {\n",
              "        vertical-align: top;\n",
              "    }\n",
              "\n",
              "    .dataframe thead th {\n",
              "        text-align: right;\n",
              "    }\n",
              "</style>\n",
              "<table border=\"1\" class=\"dataframe\">\n",
              "  <thead>\n",
              "    <tr style=\"text-align: right;\">\n",
              "      <th></th>\n",
              "      <th>cancel</th>\n",
              "      <th>High_Credit</th>\n",
              "      <th>Medium_Credit</th>\n",
              "      <th>Low_Credit</th>\n",
              "    </tr>\n",
              "  </thead>\n",
              "  <tbody>\n",
              "    <tr>\n",
              "      <th>0</th>\n",
              "      <td>0.0</td>\n",
              "      <td>57898</td>\n",
              "      <td>16623</td>\n",
              "      <td>9369</td>\n",
              "    </tr>\n",
              "    <tr>\n",
              "      <th>1</th>\n",
              "      <td>1.0</td>\n",
              "      <td>3508</td>\n",
              "      <td>2837</td>\n",
              "      <td>2165</td>\n",
              "    </tr>\n",
              "    <tr>\n",
              "      <th>2</th>\n",
              "      <td>2.0</td>\n",
              "      <td>11745</td>\n",
              "      <td>6414</td>\n",
              "      <td>7731</td>\n",
              "    </tr>\n",
              "  </tbody>\n",
              "</table>\n",
              "</div>\n",
              "      <button class=\"colab-df-convert\" onclick=\"convertToInteractive('df-5294e277-8d02-4d28-b1d7-0a517663d5ad')\"\n",
              "              title=\"Convert this dataframe to an interactive table.\"\n",
              "              style=\"display:none;\">\n",
              "        \n",
              "  <svg xmlns=\"http://www.w3.org/2000/svg\" height=\"24px\"viewBox=\"0 0 24 24\"\n",
              "       width=\"24px\">\n",
              "    <path d=\"M0 0h24v24H0V0z\" fill=\"none\"/>\n",
              "    <path d=\"M18.56 5.44l.94 2.06.94-2.06 2.06-.94-2.06-.94-.94-2.06-.94 2.06-2.06.94zm-11 1L8.5 8.5l.94-2.06 2.06-.94-2.06-.94L8.5 2.5l-.94 2.06-2.06.94zm10 10l.94 2.06.94-2.06 2.06-.94-2.06-.94-.94-2.06-.94 2.06-2.06.94z\"/><path d=\"M17.41 7.96l-1.37-1.37c-.4-.4-.92-.59-1.43-.59-.52 0-1.04.2-1.43.59L10.3 9.45l-7.72 7.72c-.78.78-.78 2.05 0 2.83L4 21.41c.39.39.9.59 1.41.59.51 0 1.02-.2 1.41-.59l7.78-7.78 2.81-2.81c.8-.78.8-2.07 0-2.86zM5.41 20L4 18.59l7.72-7.72 1.47 1.35L5.41 20z\"/>\n",
              "  </svg>\n",
              "      </button>\n",
              "      \n",
              "  <style>\n",
              "    .colab-df-container {\n",
              "      display:flex;\n",
              "      flex-wrap:wrap;\n",
              "      gap: 12px;\n",
              "    }\n",
              "\n",
              "    .colab-df-convert {\n",
              "      background-color: #E8F0FE;\n",
              "      border: none;\n",
              "      border-radius: 50%;\n",
              "      cursor: pointer;\n",
              "      display: none;\n",
              "      fill: #1967D2;\n",
              "      height: 32px;\n",
              "      padding: 0 0 0 0;\n",
              "      width: 32px;\n",
              "    }\n",
              "\n",
              "    .colab-df-convert:hover {\n",
              "      background-color: #E2EBFA;\n",
              "      box-shadow: 0px 1px 2px rgba(60, 64, 67, 0.3), 0px 1px 3px 1px rgba(60, 64, 67, 0.15);\n",
              "      fill: #174EA6;\n",
              "    }\n",
              "\n",
              "    [theme=dark] .colab-df-convert {\n",
              "      background-color: #3B4455;\n",
              "      fill: #D2E3FC;\n",
              "    }\n",
              "\n",
              "    [theme=dark] .colab-df-convert:hover {\n",
              "      background-color: #434B5C;\n",
              "      box-shadow: 0px 1px 3px 1px rgba(0, 0, 0, 0.15);\n",
              "      filter: drop-shadow(0px 1px 2px rgba(0, 0, 0, 0.3));\n",
              "      fill: #FFFFFF;\n",
              "    }\n",
              "  </style>\n",
              "\n",
              "      <script>\n",
              "        const buttonEl =\n",
              "          document.querySelector('#df-5294e277-8d02-4d28-b1d7-0a517663d5ad button.colab-df-convert');\n",
              "        buttonEl.style.display =\n",
              "          google.colab.kernel.accessAllowed ? 'block' : 'none';\n",
              "\n",
              "        async function convertToInteractive(key) {\n",
              "          const element = document.querySelector('#df-5294e277-8d02-4d28-b1d7-0a517663d5ad');\n",
              "          const dataTable =\n",
              "            await google.colab.kernel.invokeFunction('convertToInteractive',\n",
              "                                                     [key], {});\n",
              "          if (!dataTable) return;\n",
              "\n",
              "          const docLinkHtml = 'Like what you see? Visit the ' +\n",
              "            '<a target=\"_blank\" href=https://colab.research.google.com/notebooks/data_table.ipynb>data table notebook</a>'\n",
              "            + ' to learn more about interactive tables.';\n",
              "          element.innerHTML = '';\n",
              "          dataTable['output_type'] = 'display_data';\n",
              "          await google.colab.output.renderOutput(dataTable, element);\n",
              "          const docLink = document.createElement('div');\n",
              "          docLink.innerHTML = docLinkHtml;\n",
              "          element.appendChild(docLink);\n",
              "        }\n",
              "      </script>\n",
              "    </div>\n",
              "  </div>\n",
              "  "
            ]
          },
          "metadata": {},
          "execution_count": 93
        }
      ],
      "source": [
        "df = spark.sql('SELECT cancel, \\\n",
        "                SUM(CASE WHEN credit==2 THEN 1 END) AS High_Credit, \\\n",
        "                SUM(CASE WHEN credit==1 THEN 1 END) AS Medium_Credit, \\\n",
        "                SUM(CASE WHEN credit==0 THEN 1 END) AS Low_Credit \\\n",
        "                FROM data \\\n",
        "                GROUP BY cancel').toPandas()\n",
        "df"
      ]
    },
    {
      "cell_type": "markdown",
      "metadata": {
        "id": "5uMQ-Vx8Jp_s"
      },
      "source": [
        "As seen above, individuals with high credit have a proportionately to the values 0 as well as 2."
      ]
    },
    {
      "cell_type": "code",
      "execution_count": null,
      "metadata": {
        "colab": {
          "base_uri": "https://localhost:8080/",
          "height": 472
        },
        "id": "Neskxvh0JoHg",
        "outputId": "01932048-6fc2-49e6-ee33-2b0c3b328185"
      },
      "outputs": [
        {
          "output_type": "display_data",
          "data": {
            "text/plain": [
              "<Figure size 640x480 with 1 Axes>"
            ],
            "image/png": "[encoded data removed]"
          },
          "metadata": {}
        }
      ],
      "source": [
        "# From raw value to percentage\n",
        "totals = [i+j+k for i,j,k in zip(df['High_Credit'], df['Medium_Credit'], df['Low_Credit'])]\n",
        "High_Credit = [i / j * 100 for i,j in zip(df['High_Credit'], totals)]\n",
        "Medium_Credit = [i / j * 100 for i,j in zip(df['Medium_Credit'], totals)]\n",
        "Low_Credit = [i / j * 100 for i,j in zip(df['Low_Credit'], totals)]\n",
        "\n",
        "# plot\n",
        "barWidth = 0.85\n",
        "names = ('No Cancel', 'Maybe Cancel', 'Cancel')\n",
        "# Create sales broker\n",
        "plt.bar(df['cancel'], High_Credit, color='#b5ffb9', edgecolor='white', width=barWidth, label = 'High_Credit')\n",
        "# Create phone sale\n",
        "plt.bar(df['cancel'], Medium_Credit, bottom=High_Credit, color='#f9bc86', edgecolor='white', width=barWidth, label = 'Medium_Credit')\n",
        "# Create online\n",
        "plt.bar(df['cancel'], Low_Credit, bottom=[i+j for i,j in zip(High_Credit, Medium_Credit)], color='#a3acff', edgecolor='white', width=barWidth, label = 'Low_Credit')\n",
        "\n",
        "# Custom x axis\n",
        "plt.xticks(df['cancel'], names)\n",
        "plt.xlabel(\"Cancellation Status\")\n",
        "\n",
        "# Add a legend, title\n",
        "plt.legend(loc='upper right', bbox_to_anchor=(1,1), ncol=1)\n",
        "plt.title(\"Portion of Credit Scores by Cancellation Status\")\n",
        "\n",
        "# Show graphic\n",
        "plt.show()"
      ]
    },
    {
      "cell_type": "markdown",
      "metadata": {
        "id": "9tXp6BHkLUHA"
      },
      "source": [
        "As you can see, the proportion of individuals with high credit is very large for policies without cancellations, and goes down along the cancellation process. Individuals with medium credit, however, have very variable proportions for each cancellation phase. Finally, the proportion Low credit individuals with policies goes up throughout the cancellation process, but it is not completely inverse to individuals with high credit scores."
      ]
    },
    {
      "cell_type": "markdown",
      "metadata": {
        "id": "-lFz0yvYsjfR"
      },
      "source": [
        "### CreditScore by age"
      ]
    },
    {
      "cell_type": "code",
      "execution_count": null,
      "metadata": {
        "id": "wxsf1ICzOBfR"
      },
      "outputs": [],
      "source": [
        "query = vector_df.select('cancel', 'credit', 'ni_age')\n",
        "query.createOrReplaceTempView(\"data\")"
      ]
    },
    {
      "cell_type": "code",
      "execution_count": null,
      "metadata": {
        "id": "-JaXtXy8OBfS"
      },
      "outputs": [],
      "source": [
        "df_high = spark.sql('SELECT ni_age \\\n",
        "                FROM data \\\n",
        "                WHERE credit == 2').toPandas()\n",
        "df_med = spark.sql('SELECT ni_age \\\n",
        "                FROM data \\\n",
        "                WHERE credit == 1').toPandas()\n",
        "df_low = spark.sql('SELECT ni_age \\\n",
        "                FROM data \\\n",
        "                WHERE credit == 0').toPandas()"
      ]
    },
    {
      "cell_type": "code",
      "execution_count": null,
      "metadata": {
        "colab": {
          "base_uri": "https://localhost:8080/",
          "height": 472
        },
        "id": "n-frDNxCRCSR",
        "outputId": "ffc71ebb-6d8e-4382-a246-2224cee13293"
      },
      "outputs": [
        {
          "output_type": "display_data",
          "data": {
            "text/plain": [
              "<Figure size 640x480 with 1 Axes>"
            ],
            "image/png": "[encoded data removed]"
          },
          "metadata": {}
        }
      ],
      "source": [
        "sns.histplot(data=df_high, x=\"ni_age\", color=\"green\", label=\"High Credit\", kde=True, alpha = 0.6, )\n",
        "sns.histplot(data=df_med, x=\"ni_age\", color=\"yellow\", label=\"Medium Credit\", kde=True, alpha = 0.4, )\n",
        "sns.histplot(data=df_low, x=\"ni_age\", color=\"red\", label=\"Low Credit\", kde=True, alpha = 0.2, )\n",
        "\n",
        "plt.title(\"Distribution of Credit Scores by Age\")\n",
        "plt.legend()\n",
        "plt.show()"
      ]
    },
    {
      "cell_type": "markdown",
      "metadata": {
        "id": "mLlQN_zlSQDX"
      },
      "source": [
        "This plot is important, since in the previous plot we got to identify the proportion of cancellations of policies by credit score of the individual. With this plot, we can see the distribution of individuals' credit scores by age. We can see that in the dataset, high credit scores are very prevalent. A very important insight is that there is a drop off of high credit score individuals from 30 to 20 years old. This can start to build the case that individuals under 30 should be targetted the least, since they are likely to cancel their policies according to their relationship."
      ]
    },
    {
      "cell_type": "markdown",
      "metadata": {
        "id": "dwXBb_Bmsu7x"
      },
      "source": [
        "### Dwelling Type by Age"
      ]
    },
    {
      "cell_type": "code",
      "execution_count": null,
      "metadata": {
        "id": "CVJO6cREU2m6"
      },
      "outputs": [],
      "source": [
        "query = vector_df.select('cancel', 'dwelling_house', 'dwelling_condo', 'ni_age')\n",
        "query.createOrReplaceTempView(\"data\")"
      ]
    },
    {
      "cell_type": "code",
      "execution_count": null,
      "metadata": {
        "id": "rXsJyRxmU2m_"
      },
      "outputs": [],
      "source": [
        "df_house = spark.sql('SELECT ni_age \\\n",
        "                FROM data \\\n",
        "                WHERE dwelling_house == 1').toPandas()\n",
        "df_condo = spark.sql('SELECT ni_age \\\n",
        "                FROM data \\\n",
        "                WHERE dwelling_condo == 1').toPandas()\n",
        "df_tenant = spark.sql('SELECT ni_age \\\n",
        "                FROM data \\\n",
        "                WHERE dwelling_condo == 0 AND dwelling_house == 0').toPandas()"
      ]
    },
    {
      "cell_type": "code",
      "execution_count": null,
      "metadata": {
        "id": "Yztm8_sMU2m_",
        "colab": {
          "base_uri": "https://localhost:8080/",
          "height": 472
        },
        "outputId": "2e4a52a6-afb4-46b8-aaa6-bb39a77cf908"
      },
      "outputs": [
        {
          "output_type": "display_data",
          "data": {
            "text/plain": [
              "<Figure size 640x480 with 1 Axes>"
            ],
            "image/png": "[encoded data removed]"
          },
          "metadata": {}
        }
      ],
      "source": [
        "sns.histplot(data=df_house, x=\"ni_age\", color=\"green\", label=\"House\", kde=True, alpha = 0.7)\n",
        "sns.histplot(data=df_condo, x=\"ni_age\", color=\"yellow\", label=\"Condo\", kde=True, alpha = 0.7)\n",
        "sns.histplot(data=df_tenant, x=\"ni_age\", color=\"red\", label=\"Tenant\", kde=True, alpha = 0.7)\n",
        "\n",
        "plt.title(\"Distribution of Dwelling Type by Age\")\n",
        "plt.legend()\n",
        "plt.show()"
      ]
    },
    {
      "cell_type": "markdown",
      "metadata": {
        "id": "dQjX4B0fkrOE"
      },
      "source": [
        "As you can see above, and keeping in mind the relation between age and credit, it is important to note the gigantic dropoff in condo and tenant status after age 50 and the huge increase in house dwellings. This may have implications for these individuals' credit score and general financial security."
      ]
    },
    {
      "cell_type": "markdown",
      "metadata": {
        "id": "--WNkSNmgcjt"
      },
      "source": [
        "## Resetting Variables for Modeling"
      ]
    },
    {
      "cell_type": "code",
      "execution_count": null,
      "metadata": {
        "id": "X4wMMl0-gqUZ"
      },
      "outputs": [],
      "source": [
        "# create vector\n",
        "from pyspark.ml.feature import VectorAssembler\n",
        "\n",
        "# all features vectorized (including cancel, for analysis purposes)\n",
        "vass = VectorAssembler(inputCols = FEATURES, outputCol = 'model_features')"
      ]
    },
    {
      "cell_type": "code",
      "execution_count": null,
      "metadata": {
        "id": "zRQTnq-whN9x"
      },
      "outputs": [],
      "source": [
        "# These contain target features by the way\n",
        "train = vass.transform(X_train)\n",
        "test = vass.transform(X_test)"
      ]
    },
    {
      "cell_type": "code",
      "execution_count": null,
      "metadata": {
        "id": "onCOg_QlhZky",
        "colab": {
          "base_uri": "https://localhost:8080/"
        },
        "outputId": "00670c8e-71ae-4a4e-9360-1eb72e0f0d4c"
      },
      "outputs": [
        {
          "output_type": "stream",
          "name": "stdout",
          "text": [
            "+---+----+------+----------+------+-----------------+---------+-----------------+--------+----------+------+---------+------+----+------------+---------------+-----------------+-----------------+-----------------+-------------------------------------------------------+\n",
            "|id |year|ni_age|len_at_res|credit|premium          |ni_gender|ni_marital_status|n_adults|n_children|tenure|claim_ind|cancel|id_y|year_encoded|house_color_enc|coverage_type_enc|dwelling_type_enc|sales_channel_enc|model_features                                         |\n",
            "+---+----+------+----------+------+-----------------+---------+-----------------+--------+----------+------+---------+------+----+------------+---------------+-----------------+-----------------+-----------------+-------------------------------------------------------+\n",
            "|0  |2016|44.0  |25.0      |2     |950.7386189      |1        |1.0              |3.0     |0.0       |17.0  |0.0      |0     |0   |0.0         |(3,[0],[1.0])  |(2,[1],[1.0])    |(2,[1],[1.0])    |(2,[0],[1.0])    |(13,[0,1,2,3,8,10,11],[44.0,25.0,2.0,3.0,1.0,1.0,1.0]) |\n",
            "|1  |2015|31.0  |22.0      |2     |1003.420558      |0        |0.0              |2.0     |0.0       |8.0   |1.0      |0     |1   |1.0         |(3,[],[])      |(2,[],[])        |(2,[],[])        |(2,[0],[1.0])    |(13,[0,1,2,3,5,6,11],[31.0,22.0,2.0,2.0,1.0,1.0,1.0])  |\n",
            "|2  |2015|39.0  |17.0      |0     |822.5538692000001|0        |1.0              |3.0     |0.0       |8.0   |0.0      |0     |2   |1.0         |(3,[0],[1.0])  |(2,[0],[1.0])    |(2,[0],[1.0])    |(2,[1],[1.0])    |(13,[0,1,3,6,7,9,12],[39.0,17.0,3.0,1.0,1.0,1.0,1.0])  |\n",
            "|3  |2013|37.0  |22.0      |2     |827.0485096      |1        |1.0              |1.0     |2.0       |16.0  |0.0      |0     |3   |3.0         |(3,[0],[1.0])  |(2,[],[])        |(2,[0],[1.0])    |(2,[1],[1.0])    |[37.0,22.0,2.0,1.0,2.0,0.0,3.0,0.0,0.0,1.0,0.0,0.0,1.0]|\n",
            "|4  |2013|39.0  |13.0      |1     |706.7646465      |1        |1.0              |1.0     |0.0       |14.0  |0.0      |0     |4   |3.0         |(3,[2],[1.0])  |(2,[0],[1.0])    |(2,[1],[1.0])    |(2,[0],[1.0])    |[39.0,13.0,1.0,1.0,0.0,0.0,3.0,1.0,0.0,0.0,1.0,1.0,0.0]|\n",
            "+---+----+------+----------+------+-----------------+---------+-----------------+--------+----------+------+---------+------+----+------------+---------------+-----------------+-----------------+-----------------+-------------------------------------------------------+\n",
            "only showing top 5 rows\n",
            "\n"
          ]
        }
      ],
      "source": [
        "train.show(5, False)"
      ]
    },
    {
      "cell_type": "code",
      "execution_count": null,
      "metadata": {
        "id": "qOBtO775jnp2",
        "colab": {
          "base_uri": "https://localhost:8080/"
        },
        "outputId": "361c63f8-5c3c-4cbb-dc3a-b50c4b8f7c74"
      },
      "outputs": [
        {
          "output_type": "stream",
          "name": "stdout",
          "text": [
            "+---+----+------+----------+------+-----------+---------+-----------------+--------+----------+------+---------+------+----+------------+---------------+-----------------+-----------------+-----------------+-------------------------------------------------------+\n",
            "|id |year|ni_age|len_at_res|credit|premium    |ni_gender|ni_marital_status|n_adults|n_children|tenure|claim_ind|cancel|id_y|year_encoded|house_color_enc|coverage_type_enc|dwelling_type_enc|sales_channel_enc|model_features                                         |\n",
            "+---+----+------+----------+------+-----------+---------+-----------------+--------+----------+------+---------+------+----+------------+---------------+-----------------+-----------------+-----------------+-------------------------------------------------------+\n",
            "|0  |2013|33.0  |16.0      |2     |796.385532 |1        |1.0              |1.0     |3.0       |2.0   |1.0      |0     |0   |3.0         |(3,[0],[1.0])  |(2,[0],[1.0])    |(2,[0],[1.0])    |(2,[0],[1.0])    |[33.0,16.0,2.0,1.0,3.0,1.0,3.0,1.0,0.0,1.0,0.0,1.0,0.0]|\n",
            "|1  |2013|56.0  |10.0      |2     |773.2326869|0        |1.0              |2.0     |0.0       |14.0  |0.0      |0     |1   |3.0         |(3,[2],[1.0])  |(2,[1],[1.0])    |(2,[0],[1.0])    |(2,[0],[1.0])    |[56.0,10.0,2.0,2.0,0.0,0.0,3.0,0.0,1.0,1.0,0.0,1.0,0.0]|\n",
            "|2  |2015|46.0  |12.0      |2     |943.0471423|1        |1.0              |2.0     |2.0       |9.0   |0.0      |0     |2   |1.0         |(3,[0],[1.0])  |(2,[0],[1.0])    |(2,[1],[1.0])    |(2,[0],[1.0])    |[46.0,12.0,2.0,2.0,2.0,0.0,1.0,1.0,0.0,0.0,1.0,1.0,0.0]|\n",
            "|3  |2015|45.0  |15.0      |2     |949.3688474|0        |1.0              |1.0     |3.0       |12.0  |0.0      |0     |3   |1.0         |(3,[1],[1.0])  |(2,[1],[1.0])    |(2,[],[])        |(2,[0],[1.0])    |[45.0,15.0,2.0,1.0,3.0,0.0,1.0,0.0,1.0,0.0,0.0,1.0,0.0]|\n",
            "|4  |2014|28.0  |19.0      |0     |875.8736125|1        |1.0              |1.0     |1.0       |7.0   |1.0      |2     |4   |2.0         |(3,[0],[1.0])  |(2,[0],[1.0])    |(2,[],[])        |(2,[0],[1.0])    |[28.0,19.0,0.0,1.0,1.0,1.0,2.0,1.0,0.0,0.0,0.0,1.0,0.0]|\n",
            "+---+----+------+----------+------+-----------+---------+-----------------+--------+----------+------+---------+------+----+------------+---------------+-----------------+-----------------+-----------------+-------------------------------------------------------+\n",
            "only showing top 5 rows\n",
            "\n"
          ]
        }
      ],
      "source": [
        "test.show(5, False)"
      ]
    },
    {
      "cell_type": "code",
      "execution_count": null,
      "metadata": {
        "id": "vR0ix8t2npGQ"
      },
      "outputs": [],
      "source": [
        "import pyspark.ml.feature as MF\n",
        "# minmax standardization\n",
        "continuous_scaler = MF.MinMaxScaler(\n",
        "inputCol=\"model_features\",\n",
        "outputCol=\"model_features_scaled\",\n",
        ")"
      ]
    },
    {
      "cell_type": "code",
      "execution_count": null,
      "metadata": {
        "id": "yttX-wwzn8ZT"
      },
      "outputs": [],
      "source": [
        "# fit and apply scaler\n",
        "scaler = continuous_scaler.fit(train)\n",
        "train = scaler.transform(train)\n",
        "test = scaler.transform(test)"
      ]
    },
    {
      "cell_type": "code",
      "source": [
        "train.printSchema()"
      ],
      "metadata": {
        "id": "-6FaBO1vvTWr",
        "colab": {
          "base_uri": "https://localhost:8080/"
        },
        "outputId": "823bacd7-1de7-4da1-9c61-687f8590b6f7"
      },
      "execution_count": null,
      "outputs": [
        {
          "output_type": "stream",
          "name": "stdout",
          "text": [
            "root\n",
            " |-- id: long (nullable = false)\n",
            " |-- year: string (nullable = true)\n",
            " |-- ni_age: double (nullable = false)\n",
            " |-- len_at_res: double (nullable = true)\n",
            " |-- credit: integer (nullable = false)\n",
            " |-- premium: double (nullable = true)\n",
            " |-- ni_gender: integer (nullable = false)\n",
            " |-- ni_marital_status: double (nullable = true)\n",
            " |-- n_adults: double (nullable = true)\n",
            " |-- n_children: double (nullable = true)\n",
            " |-- tenure: double (nullable = true)\n",
            " |-- claim_ind: double (nullable = true)\n",
            " |-- cancel: integer (nullable = true)\n",
            " |-- id_y: long (nullable = false)\n",
            " |-- year_encoded: double (nullable = false)\n",
            " |-- house_color_enc: vector (nullable = true)\n",
            " |-- coverage_type_enc: vector (nullable = true)\n",
            " |-- dwelling_type_enc: vector (nullable = true)\n",
            " |-- sales_channel_enc: vector (nullable = true)\n",
            " |-- model_features: vector (nullable = true)\n",
            " |-- model_features_scaled: vector (nullable = true)\n",
            "\n"
          ]
        }
      ]
    },
    {
      "cell_type": "code",
      "execution_count": null,
      "metadata": {
        "id": "YB1oSRJJoZaK",
        "colab": {
          "base_uri": "https://localhost:8080/"
        },
        "outputId": "bc3fdc65-a175-46a0-a599-dc978b70f9bd"
      },
      "outputs": [
        {
          "output_type": "stream",
          "name": "stdout",
          "text": [
            "+---+----+------+----------+------+-----------------+---------+-----------------+--------+----------+------+---------+------+----+------------+---------------+-----------------+-----------------+-----------------+-------------------------------------------------------+----------------------------------------------------------------------------------------------------------------+\n",
            "|id |year|ni_age|len_at_res|credit|premium          |ni_gender|ni_marital_status|n_adults|n_children|tenure|claim_ind|cancel|id_y|year_encoded|house_color_enc|coverage_type_enc|dwelling_type_enc|sales_channel_enc|model_features                                         |model_features_scaled                                                                                           |\n",
            "+---+----+------+----------+------+-----------------+---------+-----------------+--------+----------+------+---------+------+----+------------+---------------+-----------------+-----------------+-----------------+-------------------------------------------------------+----------------------------------------------------------------------------------------------------------------+\n",
            "|0  |2016|44.0  |25.0      |2     |950.7386189      |1        |1.0              |3.0     |0.0       |17.0  |0.0      |0     |0   |0.0         |(3,[0],[1.0])  |(2,[1],[1.0])    |(2,[1],[1.0])    |(2,[0],[1.0])    |(13,[0,1,2,3,8,10,11],[44.0,25.0,2.0,3.0,1.0,1.0,1.0]) |(13,[0,1,2,3,8,10,11],[0.3170731707317073,0.47928493771387476,1.0,0.2222222222222222,1.0,1.0,1.0])              |\n",
            "|1  |2015|31.0  |22.0      |2     |1003.420558      |0        |0.0              |2.0     |0.0       |8.0   |1.0      |0     |1   |1.0         |(3,[],[])      |(2,[],[])        |(2,[],[])        |(2,[0],[1.0])    |(13,[0,1,2,3,5,6,11],[31.0,22.0,2.0,2.0,1.0,1.0,1.0])  |(13,[0,1,2,3,5,6,11],[0.15853658536585366,0.4167695110555433,1.0,0.1111111111111111,1.0,0.3333333333333333,1.0])|\n",
            "|2  |2015|39.0  |17.0      |0     |822.5538692000001|0        |1.0              |3.0     |0.0       |8.0   |0.0      |0     |2   |1.0         |(3,[0],[1.0])  |(2,[0],[1.0])    |(2,[0],[1.0])    |(2,[1],[1.0])    |(13,[0,1,3,6,7,9,12],[39.0,17.0,3.0,1.0,1.0,1.0,1.0])  |(13,[0,1,3,6,7,9,12],[0.25609756097560976,0.3125771332916574,0.2222222222222222,0.3333333333333333,1.0,1.0,1.0])|\n",
            "|3  |2013|37.0  |22.0      |2     |827.0485096      |1        |1.0              |1.0     |2.0       |16.0  |0.0      |0     |3   |3.0         |(3,[0],[1.0])  |(2,[],[])        |(2,[0],[1.0])    |(2,[1],[1.0])    |[37.0,22.0,2.0,1.0,2.0,0.0,3.0,0.0,0.0,1.0,0.0,0.0,1.0]|(13,[0,1,2,4,6,9,12],[0.23170731707317074,0.4167695110555433,1.0,0.16666666666666666,1.0,1.0,1.0])              |\n",
            "|4  |2013|39.0  |13.0      |1     |706.7646465      |1        |1.0              |1.0     |0.0       |14.0  |0.0      |0     |4   |3.0         |(3,[2],[1.0])  |(2,[0],[1.0])    |(2,[1],[1.0])    |(2,[0],[1.0])    |[39.0,13.0,1.0,1.0,0.0,0.0,3.0,1.0,0.0,0.0,1.0,1.0,0.0]|(13,[0,1,2,6,7,10,11],[0.25609756097560976,0.2292232310805488,0.5,1.0,1.0,1.0,1.0])                             |\n",
            "+---+----+------+----------+------+-----------------+---------+-----------------+--------+----------+------+---------+------+----+------------+---------------+-----------------+-----------------+-----------------+-------------------------------------------------------+----------------------------------------------------------------------------------------------------------------+\n",
            "only showing top 5 rows\n",
            "\n"
          ]
        }
      ],
      "source": [
        "train.show(5, False)"
      ]
    },
    {
      "cell_type": "markdown",
      "source": [
        "# Modeling"
      ],
      "metadata": {
        "id": "Zu6YvC6DtS0d"
      }
    },
    {
      "cell_type": "code",
      "source": [
        "# Import RandomForestClassifier\n",
        "from pyspark.ml.classification import RandomForestClassifier"
      ],
      "metadata": {
        "id": "V0EMjAOlwuzk"
      },
      "execution_count": null,
      "outputs": []
    },
    {
      "cell_type": "code",
      "source": [
        "# Create model\n",
        "\n",
        "#clf = RandomForestClassifier(featuresCol='model_features_scaled', labelCol='cancel', predictionCol='rfPreds',\n",
        "                            #maxMemoryInMB = 2048, maxDepth = 12, maxBins = 64,\n",
        "                            #bootstrap = True, numTrees = 50)\n",
        "\n",
        "# have to set this param outside of parenthesis for some reason\n",
        "#clf.setThresholds([3, 1, 2])"
      ],
      "metadata": {
        "id": "kgq-utsjtW6L"
      },
      "execution_count": null,
      "outputs": []
    },
    {
      "cell_type": "code",
      "source": [
        "\n",
        "#CONTINUOUS_COLUMNS = ['year', \"ni_age\", \"len_at_res\", \"credit_OHE\", \"coverage_type_OHE\", \"sales_channel_OHE\", \"n_adults\", \"n_children\", \"tenure\", \"claim_ind\", \"cancel\" ]\n",
        "\n",
        "\n",
        "#new_train_df = train.select('year', \"ni_age\", \"len_at_res\", \"credit_OHE\", \"coverage_type_OHE\", \"sales_channel_OHE\", \"n_adults\", \"n_children\", \"tenure\", \"claim_ind\", \"cancel\" )\n",
        "\n",
        "\n",
        "#continuous_features = VectorAssembler(inputCols=CONTINUOUS_COLUMNS, outputCol=\"continuous_features\")"
      ],
      "metadata": {
        "id": "XeaTqy9WqJ3w"
      },
      "execution_count": null,
      "outputs": []
    },
    {
      "cell_type": "code",
      "source": [
        "rfc = RandomForestClassifier(bootstrap = True,featuresCol='model_features_scaled', labelCol='cancel', predictionCol='cancelprediction', maxMemoryInMB = 3000, maxDepth = 10, maxBins = 96,numTrees = 50)\n",
        "rfc.setThresholds([3, 1, 2])\n",
        "rfcmod = rfc.fit(train)"
      ],
      "metadata": {
        "id": "G9wz9g3KnXfD"
      },
      "execution_count": null,
      "outputs": []
    },
    {
      "cell_type": "code",
      "source": [
        "# fit model\n",
        "\n",
        "#model = rfcmod.fit(train)\n",
        "\n",
        "# make predictions\n",
        "\n",
        "train_results = rfcmod.transform(train)\n",
        "test_results = rfcmod.transform(test)"
      ],
      "metadata": {
        "id": "dqTnW1mXtn4M"
      },
      "execution_count": null,
      "outputs": []
    },
    {
      "cell_type": "markdown",
      "metadata": {
        "id": "iZ9LSkQUALYR"
      },
      "source": [
        "# Model Results"
      ]
    },
    {
      "cell_type": "code",
      "source": [
        "# import necessary functions\n",
        "from sklearn.metrics import confusion_matrix, classification_report"
      ],
      "metadata": {
        "id": "xhIwwO8lwo7X"
      },
      "execution_count": null,
      "outputs": []
    },
    {
      "cell_type": "markdown",
      "source": [
        "## Train"
      ],
      "metadata": {
        "id": "XDdkJOWqvBA5"
      }
    },
    {
      "cell_type": "code",
      "source": [
        "# turn results to pandas\n",
        "\n",
        "tmp = train_results.select('cancel', 'cancelprediction')\n",
        "\n",
        "tmp = tmp.toPandas()"
      ],
      "metadata": {
        "id": "6LpAObJNvIpT"
      },
      "execution_count": null,
      "outputs": []
    },
    {
      "cell_type": "code",
      "source": [
        "# First a confusion matrix!\n",
        "\n",
        "pd.DataFrame(confusion_matrix(tmp['cancel'], tmp['cancelprediction'], labels = [0, 1, 2]))"
      ],
      "metadata": {
        "colab": {
          "base_uri": "https://localhost:8080/",
          "height": 143
        },
        "id": "6hubu7m6vIpU",
        "outputId": "5cb85144-abe2-4388-a822-f5bb30c0ebaf"
      },
      "execution_count": null,
      "outputs": [
        {
          "output_type": "execute_result",
          "data": {
            "text/plain": [
              "       0     1     2\n",
              "0  73828  4560  5502\n",
              "1   5017  2968   525\n",
              "2  15391  2672  7827"
            ],
            "text/html": [
              "\n",
              "  <div id=\"df-adea6ef2-a88b-469b-a190-9d1b8da522a8\">\n",
              "    <div class=\"colab-df-container\">\n",
              "      <div>\n",
              "<style scoped>\n",
              "    .dataframe tbody tr th:only-of-type {\n",
              "        vertical-align: middle;\n",
              "    }\n",
              "\n",
              "    .dataframe tbody tr th {\n",
              "        vertical-align: top;\n",
              "    }\n",
              "\n",
              "    .dataframe thead th {\n",
              "        text-align: right;\n",
              "    }\n",
              "</style>\n",
              "<table border=\"1\" class=\"dataframe\">\n",
              "  <thead>\n",
              "    <tr style=\"text-align: right;\">\n",
              "      <th></th>\n",
              "      <th>0</th>\n",
              "      <th>1</th>\n",
              "      <th>2</th>\n",
              "    </tr>\n",
              "  </thead>\n",
              "  <tbody>\n",
              "    <tr>\n",
              "      <th>0</th>\n",
              "      <td>73828</td>\n",
              "      <td>4560</td>\n",
              "      <td>5502</td>\n",
              "    </tr>\n",
              "    <tr>\n",
              "      <th>1</th>\n",
              "      <td>5017</td>\n",
              "      <td>2968</td>\n",
              "      <td>525</td>\n",
              "    </tr>\n",
              "    <tr>\n",
              "      <th>2</th>\n",
              "      <td>15391</td>\n",
              "      <td>2672</td>\n",
              "      <td>7827</td>\n",
              "    </tr>\n",
              "  </tbody>\n",
              "</table>\n",
              "</div>\n",
              "      <button class=\"colab-df-convert\" onclick=\"convertToInteractive('df-adea6ef2-a88b-469b-a190-9d1b8da522a8')\"\n",
              "              title=\"Convert this dataframe to an interactive table.\"\n",
              "              style=\"display:none;\">\n",
              "        \n",
              "  <svg xmlns=\"http://www.w3.org/2000/svg\" height=\"24px\"viewBox=\"0 0 24 24\"\n",
              "       width=\"24px\">\n",
              "    <path d=\"M0 0h24v24H0V0z\" fill=\"none\"/>\n",
              "    <path d=\"M18.56 5.44l.94 2.06.94-2.06 2.06-.94-2.06-.94-.94-2.06-.94 2.06-2.06.94zm-11 1L8.5 8.5l.94-2.06 2.06-.94-2.06-.94L8.5 2.5l-.94 2.06-2.06.94zm10 10l.94 2.06.94-2.06 2.06-.94-2.06-.94-.94-2.06-.94 2.06-2.06.94z\"/><path d=\"M17.41 7.96l-1.37-1.37c-.4-.4-.92-.59-1.43-.59-.52 0-1.04.2-1.43.59L10.3 9.45l-7.72 7.72c-.78.78-.78 2.05 0 2.83L4 21.41c.39.39.9.59 1.41.59.51 0 1.02-.2 1.41-.59l7.78-7.78 2.81-2.81c.8-.78.8-2.07 0-2.86zM5.41 20L4 18.59l7.72-7.72 1.47 1.35L5.41 20z\"/>\n",
              "  </svg>\n",
              "      </button>\n",
              "      \n",
              "  <style>\n",
              "    .colab-df-container {\n",
              "      display:flex;\n",
              "      flex-wrap:wrap;\n",
              "      gap: 12px;\n",
              "    }\n",
              "\n",
              "    .colab-df-convert {\n",
              "      background-color: #E8F0FE;\n",
              "      border: none;\n",
              "      border-radius: 50%;\n",
              "      cursor: pointer;\n",
              "      display: none;\n",
              "      fill: #1967D2;\n",
              "      height: 32px;\n",
              "      padding: 0 0 0 0;\n",
              "      width: 32px;\n",
              "    }\n",
              "\n",
              "    .colab-df-convert:hover {\n",
              "      background-color: #E2EBFA;\n",
              "      box-shadow: 0px 1px 2px rgba(60, 64, 67, 0.3), 0px 1px 3px 1px rgba(60, 64, 67, 0.15);\n",
              "      fill: #174EA6;\n",
              "    }\n",
              "\n",
              "    [theme=dark] .colab-df-convert {\n",
              "      background-color: #3B4455;\n",
              "      fill: #D2E3FC;\n",
              "    }\n",
              "\n",
              "    [theme=dark] .colab-df-convert:hover {\n",
              "      background-color: #434B5C;\n",
              "      box-shadow: 0px 1px 3px 1px rgba(0, 0, 0, 0.15);\n",
              "      filter: drop-shadow(0px 1px 2px rgba(0, 0, 0, 0.3));\n",
              "      fill: #FFFFFF;\n",
              "    }\n",
              "  </style>\n",
              "\n",
              "      <script>\n",
              "        const buttonEl =\n",
              "          document.querySelector('#df-adea6ef2-a88b-469b-a190-9d1b8da522a8 button.colab-df-convert');\n",
              "        buttonEl.style.display =\n",
              "          google.colab.kernel.accessAllowed ? 'block' : 'none';\n",
              "\n",
              "        async function convertToInteractive(key) {\n",
              "          const element = document.querySelector('#df-adea6ef2-a88b-469b-a190-9d1b8da522a8');\n",
              "          const dataTable =\n",
              "            await google.colab.kernel.invokeFunction('convertToInteractive',\n",
              "                                                     [key], {});\n",
              "          if (!dataTable) return;\n",
              "\n",
              "          const docLinkHtml = 'Like what you see? Visit the ' +\n",
              "            '<a target=\"_blank\" href=https://colab.research.google.com/notebooks/data_table.ipynb>data table notebook</a>'\n",
              "            + ' to learn more about interactive tables.';\n",
              "          element.innerHTML = '';\n",
              "          dataTable['output_type'] = 'display_data';\n",
              "          await google.colab.output.renderOutput(dataTable, element);\n",
              "          const docLink = document.createElement('div');\n",
              "          docLink.innerHTML = docLinkHtml;\n",
              "          element.appendChild(docLink);\n",
              "        }\n",
              "      </script>\n",
              "    </div>\n",
              "  </div>\n",
              "  "
            ]
          },
          "metadata": {},
          "execution_count": 116
        }
      ]
    },
    {
      "cell_type": "code",
      "execution_count": null,
      "metadata": {
        "colab": {
          "base_uri": "https://localhost:8080/"
        },
        "id": "au423KFBvIpU",
        "outputId": "b924b4f4-f454-4217-d9ce-229a21a03505"
      },
      "outputs": [
        {
          "output_type": "stream",
          "name": "stdout",
          "text": [
            "              precision    recall  f1-score   support\n",
            "\n",
            "           0       0.78      0.88      0.83     83890\n",
            "           1       0.29      0.35      0.32      8510\n",
            "           2       0.56      0.30      0.39     25890\n",
            "\n",
            "    accuracy                           0.72    118290\n",
            "   macro avg       0.55      0.51      0.51    118290\n",
            "weighted avg       0.70      0.72      0.70    118290\n",
            "\n"
          ]
        }
      ],
      "source": [
        "# Next a classification report!\n",
        "\n",
        "print(classification_report(tmp['cancel'], tmp['cancelprediction'], target_names = ['0', '1', '2']))"
      ]
    },
    {
      "cell_type": "markdown",
      "source": [
        "## Test"
      ],
      "metadata": {
        "id": "JPzqr9Ycu_sh"
      }
    },
    {
      "cell_type": "code",
      "source": [
        "# turn results to pandas\n",
        "\n",
        "tmp = test_results.select('cancel', 'cancelprediction')\n",
        "\n",
        "tmp = tmp.toPandas()"
      ],
      "metadata": {
        "id": "Of4znm3quxg1"
      },
      "execution_count": null,
      "outputs": []
    },
    {
      "cell_type": "code",
      "source": [
        "# First a confusion matrix!\n",
        "\n",
        "pd.DataFrame(confusion_matrix(tmp['cancel'], tmp['cancelprediction'], labels = [0, 1, 2]))"
      ],
      "metadata": {
        "id": "Id4ej7Msuqu9",
        "colab": {
          "base_uri": "https://localhost:8080/",
          "height": 143
        },
        "outputId": "ae486bf2-0db7-4aef-96f0-ea2eb411ff4e"
      },
      "execution_count": null,
      "outputs": [
        {
          "output_type": "execute_result",
          "data": {
            "text/plain": [
              "        0      1      2\n",
              "0  209383  14041  17665\n",
              "1   16011   6508   1950\n",
              "2   45778   7961  20885"
            ],
            "text/html": [
              "\n",
              "  <div id=\"df-ad93ce74-9550-4975-ab61-cbf3a50e156b\">\n",
              "    <div class=\"colab-df-container\">\n",
              "      <div>\n",
              "<style scoped>\n",
              "    .dataframe tbody tr th:only-of-type {\n",
              "        vertical-align: middle;\n",
              "    }\n",
              "\n",
              "    .dataframe tbody tr th {\n",
              "        vertical-align: top;\n",
              "    }\n",
              "\n",
              "    .dataframe thead th {\n",
              "        text-align: right;\n",
              "    }\n",
              "</style>\n",
              "<table border=\"1\" class=\"dataframe\">\n",
              "  <thead>\n",
              "    <tr style=\"text-align: right;\">\n",
              "      <th></th>\n",
              "      <th>0</th>\n",
              "      <th>1</th>\n",
              "      <th>2</th>\n",
              "    </tr>\n",
              "  </thead>\n",
              "  <tbody>\n",
              "    <tr>\n",
              "      <th>0</th>\n",
              "      <td>209383</td>\n",
              "      <td>14041</td>\n",
              "      <td>17665</td>\n",
              "    </tr>\n",
              "    <tr>\n",
              "      <th>1</th>\n",
              "      <td>16011</td>\n",
              "      <td>6508</td>\n",
              "      <td>1950</td>\n",
              "    </tr>\n",
              "    <tr>\n",
              "      <th>2</th>\n",
              "      <td>45778</td>\n",
              "      <td>7961</td>\n",
              "      <td>20885</td>\n",
              "    </tr>\n",
              "  </tbody>\n",
              "</table>\n",
              "</div>\n",
              "      <button class=\"colab-df-convert\" onclick=\"convertToInteractive('df-ad93ce74-9550-4975-ab61-cbf3a50e156b')\"\n",
              "              title=\"Convert this dataframe to an interactive table.\"\n",
              "              style=\"display:none;\">\n",
              "        \n",
              "  <svg xmlns=\"http://www.w3.org/2000/svg\" height=\"24px\"viewBox=\"0 0 24 24\"\n",
              "       width=\"24px\">\n",
              "    <path d=\"M0 0h24v24H0V0z\" fill=\"none\"/>\n",
              "    <path d=\"M18.56 5.44l.94 2.06.94-2.06 2.06-.94-2.06-.94-.94-2.06-.94 2.06-2.06.94zm-11 1L8.5 8.5l.94-2.06 2.06-.94-2.06-.94L8.5 2.5l-.94 2.06-2.06.94zm10 10l.94 2.06.94-2.06 2.06-.94-2.06-.94-.94-2.06-.94 2.06-2.06.94z\"/><path d=\"M17.41 7.96l-1.37-1.37c-.4-.4-.92-.59-1.43-.59-.52 0-1.04.2-1.43.59L10.3 9.45l-7.72 7.72c-.78.78-.78 2.05 0 2.83L4 21.41c.39.39.9.59 1.41.59.51 0 1.02-.2 1.41-.59l7.78-7.78 2.81-2.81c.8-.78.8-2.07 0-2.86zM5.41 20L4 18.59l7.72-7.72 1.47 1.35L5.41 20z\"/>\n",
              "  </svg>\n",
              "      </button>\n",
              "      \n",
              "  <style>\n",
              "    .colab-df-container {\n",
              "      display:flex;\n",
              "      flex-wrap:wrap;\n",
              "      gap: 12px;\n",
              "    }\n",
              "\n",
              "    .colab-df-convert {\n",
              "      background-color: #E8F0FE;\n",
              "      border: none;\n",
              "      border-radius: 50%;\n",
              "      cursor: pointer;\n",
              "      display: none;\n",
              "      fill: #1967D2;\n",
              "      height: 32px;\n",
              "      padding: 0 0 0 0;\n",
              "      width: 32px;\n",
              "    }\n",
              "\n",
              "    .colab-df-convert:hover {\n",
              "      background-color: #E2EBFA;\n",
              "      box-shadow: 0px 1px 2px rgba(60, 64, 67, 0.3), 0px 1px 3px 1px rgba(60, 64, 67, 0.15);\n",
              "      fill: #174EA6;\n",
              "    }\n",
              "\n",
              "    [theme=dark] .colab-df-convert {\n",
              "      background-color: #3B4455;\n",
              "      fill: #D2E3FC;\n",
              "    }\n",
              "\n",
              "    [theme=dark] .colab-df-convert:hover {\n",
              "      background-color: #434B5C;\n",
              "      box-shadow: 0px 1px 3px 1px rgba(0, 0, 0, 0.15);\n",
              "      filter: drop-shadow(0px 1px 2px rgba(0, 0, 0, 0.3));\n",
              "      fill: #FFFFFF;\n",
              "    }\n",
              "  </style>\n",
              "\n",
              "      <script>\n",
              "        const buttonEl =\n",
              "          document.querySelector('#df-ad93ce74-9550-4975-ab61-cbf3a50e156b button.colab-df-convert');\n",
              "        buttonEl.style.display =\n",
              "          google.colab.kernel.accessAllowed ? 'block' : 'none';\n",
              "\n",
              "        async function convertToInteractive(key) {\n",
              "          const element = document.querySelector('#df-ad93ce74-9550-4975-ab61-cbf3a50e156b');\n",
              "          const dataTable =\n",
              "            await google.colab.kernel.invokeFunction('convertToInteractive',\n",
              "                                                     [key], {});\n",
              "          if (!dataTable) return;\n",
              "\n",
              "          const docLinkHtml = 'Like what you see? Visit the ' +\n",
              "            '<a target=\"_blank\" href=https://colab.research.google.com/notebooks/data_table.ipynb>data table notebook</a>'\n",
              "            + ' to learn more about interactive tables.';\n",
              "          element.innerHTML = '';\n",
              "          dataTable['output_type'] = 'display_data';\n",
              "          await google.colab.output.renderOutput(dataTable, element);\n",
              "          const docLink = document.createElement('div');\n",
              "          docLink.innerHTML = docLinkHtml;\n",
              "          element.appendChild(docLink);\n",
              "        }\n",
              "      </script>\n",
              "    </div>\n",
              "  </div>\n",
              "  "
            ]
          },
          "metadata": {},
          "execution_count": 119
        }
      ]
    },
    {
      "cell_type": "code",
      "execution_count": null,
      "metadata": {
        "id": "uz4oElkBAWDi",
        "colab": {
          "base_uri": "https://localhost:8080/"
        },
        "outputId": "46e1d2a7-e37e-4347-a402-65d87a0b723b"
      },
      "outputs": [
        {
          "output_type": "stream",
          "name": "stdout",
          "text": [
            "              precision    recall  f1-score   support\n",
            "\n",
            "           0       0.77      0.87      0.82    241089\n",
            "           1       0.23      0.27      0.25     24469\n",
            "           2       0.52      0.28      0.36     74624\n",
            "\n",
            "    accuracy                           0.70    340182\n",
            "   macro avg       0.51      0.47      0.48    340182\n",
            "weighted avg       0.68      0.70      0.68    340182\n",
            "\n"
          ]
        }
      ],
      "source": [
        "# Next a classification report!\n",
        "\n",
        "print(classification_report(tmp['cancel'], tmp['cancelprediction'], target_names = ['0', '1', '2']))"
      ]
    },
    {
      "cell_type": "markdown",
      "source": [],
      "metadata": {
        "id": "oo7L05FHkjCM"
      }
    },
    {
      "cell_type": "markdown",
      "metadata": {
        "id": "ziZHzrRkAOn7"
      },
      "source": [
        "# Interpretability and Discussion"
      ]
    },
    {
      "cell_type": "markdown",
      "source": [
        "\n",
        "\n",
        "* Further Investigation of the the sales channels that lead to the highest proportion of cancellations, and take steps to address any issues. As per the data exploration, sales brokers may be the best at securing policies but also lead in the number of cancellations. Therefore, insurers can analyze the performance of their sales channels and take steps to address any issues that may be contributing to higher cancellation rates, such as poor communication with the customer, on boarding process and constant follow ups from the brokers and customer relation officers. This could help improve customer satisfaction and retention, which would benefit the company in the long run. In addition, combinations of sales channels should be explored. For instance, can customers acquired through online sales be assigned to specific brokers and relationship managers to make them feel valued and address their concerns\n",
        "\n",
        "\n",
        "* The random forest classifier model shows that individuals with low credit scores are more likely to cancel their policies. This is also reflected in the credit score by age plot, which shows a higher proportion of low credit individuals who are young among those who have cancelled their policies or might cancel their policies. Therefore, it would be a good idea to target individuals with low credit scores and provide them with incentives to stay with their policies. This could include offering them lower premiums or providing them with additional coverage at no extra cost. By targeting this segment of the market, it may be possible to reduce the number of cancellations and improve overall profitability.\n",
        "\n",
        "* Strategy based on relationship among house type, credit and age can also be made. For instance, middle aged men with a tenure and people in the age bracket between 40 - 60 with a good credit score might hold on to their policies. Old people do not seem to have much houses, this could be due to a variety of reasons, like death on policy holdeer os simply not enough data of old people in the date set"
      ],
      "metadata": {
        "id": "aGViliSsaR0H"
      }
    },
    {
      "cell_type": "markdown",
      "metadata": {
        "id": "rdVzupSyASA2"
      },
      "source": [
        "# Conclusions"
      ]
    },
    {
      "cell_type": "markdown",
      "metadata": {
        "id": "VK9Pxun0UUk5"
      },
      "source": [
        "Please use nice big, descriptive subheaders so that it is easy to grade! Thank you!"
      ]
    },
    {
      "cell_type": "markdown",
      "source": [
        "###Data Cleaning\n",
        "* We understood the practical usage of on hot encode which\n",
        "helped us manipulate dwelling  type as an important feature to the model\n",
        "* We Effectively joined X and Y test/ train models to be able to manipulate null values"
      ],
      "metadata": {
        "id": "rVPJWEUoktgL"
      }
    },
    {
      "cell_type": "markdown",
      "source": [
        "###Data Exploration"
      ],
      "metadata": {
        "id": "RYLgxuMAmuKG"
      }
    },
    {
      "cell_type": "markdown",
      "source": [
        "* We polished our knowledge on extracting data using sql and pyspark, furthermore making stacked histogram plots\n",
        "* We learned to go a step further and made detailed interpretations from the graphs which have concrete business use case"
      ],
      "metadata": {
        "id": "ElDs_WWGnqbD"
      }
    },
    {
      "cell_type": "markdown",
      "source": [
        "### Models"
      ],
      "metadata": {
        "id": "AanBQaPBod6L"
      }
    },
    {
      "cell_type": "markdown",
      "source": [
        "* We implemented the best model after trying various methods. We used a baseline decision tree model tweaked the features for a random forest classifier and also cross validated to find the best features and thresholds."
      ],
      "metadata": {
        "id": "S2bQlCz2ogam"
      }
    }
  ],
  "metadata": {
    "colab": {
      "provenance": []
    },
    "kernelspec": {
      "display_name": "Python 3",
      "name": "python3"
    },
    "language_info": {
      "name": "python"
    }
  },
  "nbformat": 4,
  "nbformat_minor": 0
}